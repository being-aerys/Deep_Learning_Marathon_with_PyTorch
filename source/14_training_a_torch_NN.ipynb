{
 "cells": [
  {
   "attachments": {},
   "cell_type": "markdown",
   "metadata": {},
   "source": [
    "Let us look at the predictions made by our simple NN from previous notebook."
   ]
  },
  {
   "cell_type": "code",
   "execution_count": 158,
   "metadata": {},
   "outputs": [],
   "source": [
    "import torch\n",
    "from torch import nn\n",
    "import matplotlib.pyplot as plt\n",
    "\n",
    "import linear_regression, utils"
   ]
  },
  {
   "cell_type": "code",
   "execution_count": 159,
   "metadata": {},
   "outputs": [],
   "source": [
    "torch.manual_seed(42)\n",
    "lin_reg_model = linear_regression.Linear_Regresssion_Model()"
   ]
  },
  {
   "cell_type": "code",
   "execution_count": 160,
   "metadata": {},
   "outputs": [
    {
     "data": {
      "text/plain": [
       "tensor([[1.2000],\n",
       "        [1.3500],\n",
       "        [1.5000],\n",
       "        [1.6500],\n",
       "        [1.8000],\n",
       "        [1.9500],\n",
       "        [2.1000],\n",
       "        [2.2500],\n",
       "        [2.4000],\n",
       "        [2.5500],\n",
       "        [2.7000],\n",
       "        [2.8500],\n",
       "        [3.0000],\n",
       "        [3.1500],\n",
       "        [3.3000],\n",
       "        [3.4500],\n",
       "        [3.6000],\n",
       "        [3.7500],\n",
       "        [3.9000]])"
      ]
     },
     "execution_count": 160,
     "metadata": {},
     "output_type": "execute_result"
    }
   ],
   "source": [
    "X = torch.arange(1,10.1,0.5)\n",
    "X = X.unsqueeze(dim = 1)\n",
    "weight = 0.3\n",
    "bias = 0.9\n",
    "y = weight * X + bias\n",
    "y\n"
   ]
  },
  {
   "cell_type": "code",
   "execution_count": 161,
   "metadata": {},
   "outputs": [
    {
     "data": {
      "text/plain": [
       "(tensor([[ 6.5000],\n",
       "         [ 7.0000],\n",
       "         [ 7.5000],\n",
       "         [ 8.0000],\n",
       "         [ 8.5000],\n",
       "         [ 9.0000],\n",
       "         [ 9.5000],\n",
       "         [10.0000]]),\n",
       " tensor([[2.8500],\n",
       "         [3.0000],\n",
       "         [3.1500],\n",
       "         [3.3000],\n",
       "         [3.4500],\n",
       "         [3.6000],\n",
       "         [3.7500],\n",
       "         [3.9000]]))"
      ]
     },
     "execution_count": 161,
     "metadata": {},
     "output_type": "execute_result"
    }
   ],
   "source": [
    "train_split = int(0.6 * len(X))\n",
    "train_X, train_y = X[:train_split], y[:train_split]\n",
    "test_X, test_y = X[train_split:], y[train_split:]\n",
    "test_X, test_y"
   ]
  },
  {
   "cell_type": "code",
   "execution_count": 162,
   "metadata": {},
   "outputs": [
    {
     "data": {
      "text/plain": [
       "tensor([[2.3173],\n",
       "        [2.4856],\n",
       "        [2.6540],\n",
       "        [2.8223],\n",
       "        [2.9907],\n",
       "        [3.1590],\n",
       "        [3.3274],\n",
       "        [3.4957]])"
      ]
     },
     "execution_count": 162,
     "metadata": {},
     "output_type": "execute_result"
    }
   ],
   "source": [
    "# predictions = lin_reg_model(test_X)\n",
    "\n",
    "# using context manager to make inference\n",
    "with torch.inference_mode():\n",
    "    predictions = lin_reg_model(test_X)\n",
    "\n",
    "predictions"
   ]
  },
  {
   "cell_type": "code",
   "execution_count": 163,
   "metadata": {},
   "outputs": [
    {
     "data": {
      "image/png": "[encoded data removed]",
      "text/plain": [
       "<Figure size 1000x700 with 1 Axes>"
      ]
     },
     "metadata": {},
     "output_type": "display_data"
    }
   ],
   "source": [
    "# if context manager was not used while making predictions above\n",
    "#utils.plot_predictions(train_X, train_y, test_X, test_y, predictions.detach().numpy())\n",
    "\n",
    "# if context manager used above\n",
    "utils.plot_predictions(train_X, train_y, test_X, test_y, predictions)"
   ]
  },
  {
   "attachments": {},
   "cell_type": "markdown",
   "metadata": {},
   "source": [
    "#### Train the model\n",
    "One way to measure how bad the predictions are is to use the loss functions. `torch.nn` has many pre-defined loss functions such as L1 loss, L2 loss, CrossEntropy loss, etc. In order to train a model based on how bad the current predictions are according to a loss function, we need an optimizer that tries to minimize the error in terms of the loss function. torch has `torch.optim` module that makes many optimizers such as `torch.optim.SGD` available."
   ]
  },
  {
   "attachments": {},
   "cell_type": "markdown",
   "metadata": {},
   "source": [
    "Set up a loss function."
   ]
  },
  {
   "cell_type": "code",
   "execution_count": 164,
   "metadata": {},
   "outputs": [
    {
     "data": {
      "text/plain": [
       "MSELoss()"
      ]
     },
     "execution_count": 164,
     "metadata": {},
     "output_type": "execute_result"
    }
   ],
   "source": [
    "loss_func = nn.MSELoss()\n",
    "loss_func"
   ]
  },
  {
   "attachments": {},
   "cell_type": "markdown",
   "metadata": {},
   "source": [
    "Set up an optimizer."
   ]
  },
  {
   "cell_type": "code",
   "execution_count": 165,
   "metadata": {},
   "outputs": [
    {
     "data": {
      "text/plain": [
       "SGD (\n",
       "Parameter Group 0\n",
       "    dampening: 0\n",
       "    differentiable: False\n",
       "    foreach: None\n",
       "    lr: 0.0001\n",
       "    maximize: False\n",
       "    momentum: 0\n",
       "    nesterov: False\n",
       "    weight_decay: 0\n",
       ")"
      ]
     },
     "execution_count": 165,
     "metadata": {},
     "output_type": "execute_result"
    }
   ],
   "source": [
    "optimizer = torch.optim.SGD(params = lin_reg_model.parameters(),\n",
    "                             lr = 0.0001)\n",
    "optimizer"
   ]
  },
  {
   "attachments": {},
   "cell_type": "markdown",
   "metadata": {},
   "source": [
    "Set up the training and testing loop."
   ]
  },
  {
   "cell_type": "code",
   "execution_count": 166,
   "metadata": {},
   "outputs": [
    {
     "name": "stdout",
     "output_type": "stream",
     "text": [
      "\n",
      "EPOCH  0  | Training loss:  0.41652432084083557  | Test loss at epoch  0 : 0.21785318851470947\n",
      "\n",
      "EPOCH  10000  | Training loss:  0.048574019223451614  | Test loss at epoch  10000 : 0.29621651768684387\n",
      "\n",
      "EPOCH  20000  | Training loss:  0.0255757924169302  | Test loss at epoch  20000 : 0.15596812963485718\n",
      "\n",
      "EPOCH  30000  | Training loss:  0.013466776348650455  | Test loss at epoch  30000 : 0.08212758600711823\n",
      "\n",
      "EPOCH  40000  | Training loss:  0.007091249339282513  | Test loss at epoch  40000 : 0.04324725642800331\n",
      "\n",
      "EPOCH  50000  | Training loss:  0.0037342750001698732  | Test loss at epoch  50000 : 0.022776316851377487\n",
      "\n",
      "EPOCH  60000  | Training loss:  0.001966724405065179  | Test loss at epoch  60000 : 0.011997612193226814\n",
      "\n",
      "EPOCH  70000  | Training loss:  0.0010359493317082524  | Test loss at epoch  70000 : 0.006320618558675051\n",
      "\n",
      "EPOCH  80000  | Training loss:  0.000545599905308336  | Test loss at epoch  80000 : 0.003326962236315012\n",
      "\n",
      "EPOCH  90000  | Training loss:  0.000287561968434602  | Test loss at epoch  90000 : 0.0017527114832773805\n"
     ]
    }
   ],
   "source": [
    "torch.manual_seed(42)\n",
    "\n",
    "epochs = 100000\n",
    "epoch_ctr = []\n",
    "training_loss_list = []\n",
    "test_loss_list = []\n",
    "\n",
    "# for each pass of the training data\n",
    "for epoch in range(0, epochs):        \n",
    "\n",
    "    ###### TRAINING SECTION\n",
    "    # set the model to training mode\n",
    "    lin_reg_model.train()\n",
    "\n",
    "    # make predictions for all training data\n",
    "    predictions = lin_reg_model(train_X)\n",
    "    \n",
    "    # calculate the training loss\n",
    "    training_loss = loss_func(predictions, train_y)\n",
    "    \n",
    "    # clear the garbage gradient value\n",
    "    optimizer.zero_grad()\n",
    "    \n",
    "    # calculate the gradients using backpropagation for the entire dataset at once\n",
    "    # hence, this is not Stochastic Gradient Descent, but rather Gradient Descent\n",
    "    training_loss.backward()\n",
    "    \n",
    "    # update model parameters using the calculated gradients\n",
    "    optimizer.step()\n",
    "\n",
    "    ###### EVALUATION SECTION\n",
    "\n",
    "    # set the model to evaluation mode\n",
    "    # this ensures that any calculation that is not needed in the test mode is skipped\n",
    "    # such as batch norm or dropout operations\n",
    "    lin_reg_model.eval()\n",
    "    \n",
    "    # evaluate the model after the parameter update\n",
    "    if epoch % 10000 == 0:\n",
    "\n",
    "        # inference mode ensures that the gradients are not tracked within this with loop\n",
    "        with torch.inference_mode():\n",
    "\n",
    "            # make predictions for test data\n",
    "            test_predictions = lin_reg_model(test_X)\n",
    "\n",
    "            # calculate the loss\n",
    "            test_loss = loss_func(test_predictions, test_y)\n",
    "            print(\"\\nEPOCH \", epoch, \" | Training loss: \",training_loss.detach().item(),\" | Test loss at epoch \", epoch, \":\", test_loss.item())\n",
    "            #print(lin_reg_model.state_dict())\n",
    "            # store the training and test loss for the plot\n",
    "            epoch_ctr.append(epoch)\n",
    "            training_loss_list.append(training_loss.detach())\n",
    "            test_loss_list.append(test_loss)\n",
    "\n",
    "\n"
   ]
  },
  {
   "attachments": {},
   "cell_type": "markdown",
   "metadata": {},
   "source": [
    "As seen above, training for more epochs reduces the test loss in general, heading toward 0. However, over-training will cause the test loss to increase if the learning rate is not gradually reduced."
   ]
  },
  {
   "attachments": {},
   "cell_type": "markdown",
   "metadata": {},
   "source": [
    "#### Plots"
   ]
  },
  {
   "attachments": {},
   "cell_type": "markdown",
   "metadata": {},
   "source": [
    "Prediction vs. Ground Truth"
   ]
  },
  {
   "cell_type": "code",
   "execution_count": 167,
   "metadata": {},
   "outputs": [
    {
     "data": {
      "image/png": "[encoded data removed]",
      "text/plain": [
       "<Figure size 1000x700 with 1 Axes>"
      ]
     },
     "metadata": {},
     "output_type": "display_data"
    }
   ],
   "source": [
    "# plot the predictions vs the ground truth at the end\n",
    "utils.plot_predictions(train_X, train_y, test_X, test_y, test_predictions)"
   ]
  },
  {
   "attachments": {},
   "cell_type": "markdown",
   "metadata": {},
   "source": [
    "As seen above, our model has learned a decent estimation of the simple linear regression parameters such that the predictions (in red) are much closed to the ground truth (in blue) than from where we started. "
   ]
  },
  {
   "attachments": {},
   "cell_type": "markdown",
   "metadata": {},
   "source": [
    "Training Loss vs Test Loss"
   ]
  },
  {
   "cell_type": "code",
   "execution_count": 172,
   "metadata": {},
   "outputs": [
    {
     "data": {
      "image/png": "[encoded data removed]",
      "text/plain": [
       "<Figure size 640x480 with 1 Axes>"
      ]
     },
     "metadata": {},
     "output_type": "display_data"
    }
   ],
   "source": [
    "plt.plot(epoch_ctr, training_loss_list, \"g\", label = \"Training Loss\")\n",
    "plt.plot(epoch_ctr, test_loss_list, \"r\", label = \"Test Loss\")\n",
    "plt.title(\"Training Loss and Test Loss Curves\")\n",
    "plt.xlabel(\"Epochs\")\n",
    "plt.ylabel(\"Loss\")\n",
    "plt.legend()\n",
    "plt.show()"
   ]
  },
  {
   "attachments": {},
   "cell_type": "markdown",
   "metadata": {},
   "source": [
    "As seen above, the training and test loss values gradually decrease over the epochs."
   ]
  },
  {
   "attachments": {},
   "cell_type": "markdown",
   "metadata": {},
   "source": [
    "#### Save the trained model so as to re-use later.\n",
    "- `torch.save()` saves a PyTorch object in .pkl format\n",
    "    - This includes a `torch.nn.Module` object (a NN in torch) and a `torch.optim.SGD` object.\n",
    "- `torch.load()` - loads a saved PyTorch object.\n",
    "- `torch.nn.Module.load_state_dict()` allows a saved model parameters to be loaded to a torch NN."
   ]
  },
  {
   "cell_type": "code",
   "execution_count": 181,
   "metadata": {},
   "outputs": [],
   "source": [
    "path_to_save_model = \"saved_params\\lin_reg_model_params.pth\"\n",
    "\n",
    "# save the model and optimizer's state dicts\n",
    "torch.save(lin_reg_model.state_dict(), path_to_save_model)"
   ]
  },
  {
   "attachments": {},
   "cell_type": "markdown",
   "metadata": {},
   "source": [
    "Load a saved model."
   ]
  },
  {
   "cell_type": "code",
   "execution_count": 184,
   "metadata": {},
   "outputs": [
    {
     "data": {
      "text/plain": [
       "OrderedDict([('weights', tensor([0.3367])), ('bias', tensor([0.1288]))])"
      ]
     },
     "execution_count": 184,
     "metadata": {},
     "output_type": "execute_result"
    }
   ],
   "source": [
    "new_model = linear_regression.Linear_Regresssion_Model()\n",
    "new_model.state_dict() \n"
   ]
  },
  {
   "cell_type": "code",
   "execution_count": 186,
   "metadata": {},
   "outputs": [
    {
     "data": {
      "text/plain": [
       "<All keys matched successfully>"
      ]
     },
     "execution_count": 186,
     "metadata": {},
     "output_type": "execute_result"
    }
   ],
   "source": [
    "new_model.load_state_dict(torch.load(path_to_save_model))"
   ]
  },
  {
   "attachments": {},
   "cell_type": "markdown",
   "metadata": {},
   "source": [
    "New predictions can be made using this loaded model."
   ]
  },
  {
   "cell_type": "code",
   "execution_count": 191,
   "metadata": {},
   "outputs": [
    {
     "name": "stdout",
     "output_type": "stream",
     "text": [
      "tensor([[2.8667],\n",
      "        [3.0203],\n",
      "        [3.1739],\n",
      "        [3.3275],\n",
      "        [3.4811],\n",
      "        [3.6346],\n",
      "        [3.7882],\n",
      "        [3.9418]])\n",
      "tensor([[2.8667],\n",
      "        [3.0203],\n",
      "        [3.1739],\n",
      "        [3.3275],\n",
      "        [3.4811],\n",
      "        [3.6346],\n",
      "        [3.7882],\n",
      "        [3.9418]])\n"
     ]
    }
   ],
   "source": [
    "# predict using both models to compare side-by-side\n",
    "lin_reg_model.eval()\n",
    "new_model.eval()\n",
    "with torch.inference_mode():\n",
    "    print(lin_reg_model(test_X))\n",
    "    print(new_model(test_X))"
   ]
  },
  {
   "cell_type": "code",
   "execution_count": 193,
   "metadata": {},
   "outputs": [
    {
     "data": {
      "text/plain": [
       "tensor([[True],\n",
       "        [True],\n",
       "        [True],\n",
       "        [True],\n",
       "        [True],\n",
       "        [True],\n",
       "        [True],\n",
       "        [True]])"
      ]
     },
     "execution_count": 193,
     "metadata": {},
     "output_type": "execute_result"
    }
   ],
   "source": [
    "lin_reg_model(test_X) == new_model(test_X)"
   ]
  },
  {
   "attachments": {},
   "cell_type": "markdown",
   "metadata": {},
   "source": [
    "As seen above, both, the original model and the saved model, provide the same predictions."
   ]
  },
  {
   "attachments": {},
   "cell_type": "markdown",
   "metadata": {},
   "source": []
  }
 ],
 "metadata": {
  "kernelspec": {
   "display_name": ".venv",
   "language": "python",
   "name": "python3"
  },
  "language_info": {
   "codemirror_mode": {
    "name": "ipython",
    "version": 3
   },
   "file_extension": ".py",
   "mimetype": "text/x-python",
   "name": "python",
   "nbconvert_exporter": "python",
   "pygments_lexer": "ipython3",
   "version": "3.10.11"
  },
  "orig_nbformat": 4
 },
 "nbformat": 4,
 "nbformat_minor": 2
}
