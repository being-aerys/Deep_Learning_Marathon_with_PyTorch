{
 "cells": [
  {
   "attachments": {},
   "cell_type": "markdown",
   "metadata": {},
   "source": [
    "Following are some of the model-building essentials in PyTorch\n",
    "- torch.nn - contains the building blocks for a neural network/ computational graph.\n",
    "- torch.Parameter - what parameters should the neural network learn.\n",
    "- torch.nn.Module - the base class for all neural networks classes. If you subclass it, need to overwrite the forward() method\n",
    "- torch.optim - module that contains the definition for all optimizers in torch such as torch.optim.SGD\n",
    "- forward() - all neural network classes subclassed from nn.Module class need to overwrite this method to define how the data is passed through the computation graph."
   ]
  },
  {
   "cell_type": "markdown",
   "metadata": {},
   "source": []
  }
 ],
 "metadata": {
  "language_info": {
   "name": "python"
  },
  "orig_nbformat": 4
 },
 "nbformat": 4,
 "nbformat_minor": 2
}
