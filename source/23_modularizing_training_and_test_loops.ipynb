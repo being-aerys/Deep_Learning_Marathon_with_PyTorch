{
 "cells": [
  {
   "attachments": {},
   "cell_type": "markdown",
   "metadata": {},
   "source": [
    "Here, we intend to see if using a GPU can reduce the training time of our FCN model."
   ]
  },
  {
   "cell_type": "code",
   "execution_count": 33,
   "metadata": {},
   "outputs": [
    {
     "data": {
      "text/plain": [
       "('2.0.0+cu118', '0.15.1+cu118')"
      ]
     },
     "execution_count": 33,
     "metadata": {},
     "output_type": "execute_result"
    }
   ],
   "source": [
    "import torch, torchvision\n",
    "torch.__version__, torchvision.__version__"
   ]
  },
  {
   "cell_type": "code",
   "execution_count": 34,
   "metadata": {},
   "outputs": [],
   "source": [
    "from torchvision import datasets\n",
    "from torchvision import transforms\n",
    "from torchvision.transforms import ToTensor\n",
    "\n",
    "import matplotlib.pyplot as plt"
   ]
  },
  {
   "cell_type": "code",
   "execution_count": 35,
   "metadata": {},
   "outputs": [],
   "source": [
    "from timeit import default_timer as timer"
   ]
  },
  {
   "attachments": {},
   "cell_type": "markdown",
   "metadata": {},
   "source": [
    "#### Getting torchvision dataset\n",
    "`torchvision` provides some datasets that we can import to train our models. Here, we will use FashionMNIST dataset for demonstration. The returned variable is of type `Dataset` and has both features and the label of the sample at each index of the dataset."
   ]
  },
  {
   "cell_type": "code",
   "execution_count": 36,
   "metadata": {},
   "outputs": [],
   "source": [
    "train_data = torchvision.datasets.FashionMNIST(root=\"data\",\n",
    "                                               train=True, # download only training dataset\n",
    "                                               download=True,\n",
    "                                               transform=torchvision.transforms.ToTensor(),\n",
    "                                               target_transform=None)\n",
    "\n",
    "test_data = torchvision.datasets.FashionMNIST(root=\"data\",\n",
    "                                               train=False, # download only test dataset\n",
    "                                               download=True,\n",
    "                                               transform=torchvision.transforms.ToTensor(),\n",
    "                                               target_transform=None)"
   ]
  },
  {
   "cell_type": "code",
   "execution_count": 37,
   "metadata": {},
   "outputs": [
    {
     "data": {
      "text/plain": [
       "(torch.Size([1, 28, 28]), 9)"
      ]
     },
     "execution_count": 37,
     "metadata": {},
     "output_type": "execute_result"
    }
   ],
   "source": [
    "first_image, first_targe_label = train_data[0]\n",
    "first_image.shape, first_targe_label"
   ]
  },
  {
   "cell_type": "code",
   "execution_count": 38,
   "metadata": {},
   "outputs": [
    {
     "data": {
      "text/plain": [
       "(<torch.utils.data.dataloader.DataLoader at 0x20e9c17a980>,\n",
       " <torch.utils.data.dataloader.DataLoader at 0x20e9c17a650>)"
      ]
     },
     "execution_count": 38,
     "metadata": {},
     "output_type": "execute_result"
    }
   ],
   "source": [
    "from torch.utils.data import DataLoader\n",
    "\n",
    "BATCH_SIZE = 64\n",
    "\n",
    "train_dataloader = DataLoader(dataset=train_data,\n",
    "                              batch_size=BATCH_SIZE,\n",
    "                              shuffle=True)\n",
    "\n",
    "test_dataloader = DataLoader(dataset=test_data,\n",
    "                              batch_size=BATCH_SIZE,\n",
    "                              shuffle=True)\n",
    "train_dataloader, test_dataloader"
   ]
  },
  {
   "attachments": {},
   "cell_type": "markdown",
   "metadata": {},
   "source": [
    "Let's see how to interact with the dataloader. As mentioned before, `DataLoader` turns our dataset into a Python iterable."
   ]
  },
  {
   "cell_type": "code",
   "execution_count": 39,
   "metadata": {},
   "outputs": [
    {
     "data": {
      "text/plain": [
       "(938, 157)"
      ]
     },
     "execution_count": 39,
     "metadata": {},
     "output_type": "execute_result"
    }
   ],
   "source": [
    "len(train_dataloader), len(test_dataloader)"
   ]
  },
  {
   "cell_type": "code",
   "execution_count": 40,
   "metadata": {},
   "outputs": [
    {
     "data": {
      "text/plain": [
       "(torch.Size([64, 1, 28, 28]),\n",
       " tensor([4, 2, 3, 3, 5, 8, 1, 3, 9, 2, 9, 3, 5, 9, 1, 5, 2, 2, 3, 9, 4, 0, 6, 8,\n",
       "         2, 5, 1, 7, 6, 6, 9, 2, 4, 0, 7, 1, 9, 8, 9, 7, 9, 9, 3, 3, 5, 1, 4, 3,\n",
       "         6, 9, 5, 6, 8, 4, 9, 8, 1, 1, 1, 0, 9, 5, 7, 0]))"
      ]
     },
     "execution_count": 40,
     "metadata": {},
     "output_type": "execute_result"
    }
   ],
   "source": [
    "train_features_batch, train_labels_batch = next(iter(train_dataloader))\n",
    "train_features_batch.shape, train_labels_batch"
   ]
  },
  {
   "attachments": {},
   "cell_type": "markdown",
   "metadata": {},
   "source": [
    "Turns out, the `DataLoader` class converts the torchvision dataset features into the shape of B x C x H x W."
   ]
  },
  {
   "attachments": {},
   "cell_type": "markdown",
   "metadata": {},
   "source": [
    "#### Build a fully-connected network.\n",
    "Here, we will attempt to make classification of images based on fully-connected layers only."
   ]
  },
  {
   "cell_type": "code",
   "execution_count": 41,
   "metadata": {},
   "outputs": [],
   "source": [
    "class FashionMNIST_classifier(torch.nn.Module):\n",
    "\n",
    "    def __init__(self, input_shape: int, hidden_units : int, output_shape : int):\n",
    "        super().__init__()\n",
    "        self.seq_layer_stack = torch.nn.Sequential(\n",
    "            torch.nn.Flatten(),\n",
    "            torch.nn.Linear(in_features=input_shape, out_features=hidden_units),\n",
    "            torch.nn.Linear(in_features=hidden_units, out_features=output_shape)\n",
    "        )\n",
    "    \n",
    "    def forward(self, x : torch.Tensor) -> torch.Tensor:\n",
    "        return self.seq_layer_stack(x)\n"
   ]
  },
  {
   "attachments": {},
   "cell_type": "markdown",
   "metadata": {},
   "source": [
    "#### Training\n",
    "Train the network using `DataLoader` object. The training loop algorithm looks as below:<br>\n",
    "- Loop through epochs.\n",
    "    - for training batch 0 to ...\n",
    "        - calculate `training_loss` for this batch using loss function.\n",
    "        - calculate gradients using `loss.backward()`.\n",
    "        - update parameters using `optimizer.step()`.\n",
    "    - for testing batch 0 to ...\n",
    "        - calculate `test_loss` for this batch.\n",
    "        "
   ]
  },
  {
   "cell_type": "code",
   "execution_count": 42,
   "metadata": {},
   "outputs": [],
   "source": [
    "from helper_functions import accuracy_fn\n",
    "from utils import print_training_time\n",
    "\n",
    "from tqdm import tqdm"
   ]
  },
  {
   "cell_type": "code",
   "execution_count": 43,
   "metadata": {},
   "outputs": [
    {
     "data": {
      "text/plain": [
       "938"
      ]
     },
     "execution_count": 43,
     "metadata": {},
     "output_type": "execute_result"
    }
   ],
   "source": [
    "len(train_dataloader)"
   ]
  },
  {
   "attachments": {},
   "cell_type": "markdown",
   "metadata": {},
   "source": [
    "Checking output format before training.\n"
   ]
  },
  {
   "cell_type": "code",
   "execution_count": 44,
   "metadata": {},
   "outputs": [],
   "source": [
    "device = \"cuda\" if torch.cuda.is_available() else \"cpu\""
   ]
  },
  {
   "cell_type": "code",
   "execution_count": 45,
   "metadata": {},
   "outputs": [
    {
     "data": {
      "text/plain": [
       "torch.Size([64, 10])"
      ]
     },
     "execution_count": 45,
     "metadata": {},
     "output_type": "execute_result"
    }
   ],
   "source": [
    "# create a classifier.\n",
    "# shape of a FashionMNIST image is 28*28 and there are 10 different output labels.\n",
    "torch.manual_seed(42)\n",
    "_classifier = FashionMNIST_classifier(input_shape=28*28, hidden_units=10, output_shape=10)\n",
    "_classifier = _classifier.to(device=device)\n",
    "\n",
    "with torch.inference_mode():\n",
    "    _classifier.eval()\n",
    "    for batch_num, (X, y) in enumerate(train_dataloader):\n",
    "        # move the data to the respective device\n",
    "        X, y = X.to(device=device), y.to(device=device)\n",
    "        y_pred_batch = _classifier(X)\n",
    "        break\n",
    "# check the shape of the batch output\n",
    "y_pred_batch.shape"
   ]
  },
  {
   "attachments": {},
   "cell_type": "markdown",
   "metadata": {},
   "source": [
    "Let's modularize model training and testing loops."
   ]
  },
  {
   "cell_type": "code",
   "execution_count": 46,
   "metadata": {},
   "outputs": [],
   "source": [
    "def training_step(model: torch.nn.Module,\n",
    "                  data_loader : torch.utils.data.DataLoader,\n",
    "                  loss_function : torch.nn.Module,\n",
    "                  optimizer : torch.optim,\n",
    "                  accuracy_func,\n",
    "                  device : torch.device = device):\n",
    "    \"\"\"\n",
    "    Trains a passed torch.nn.Module object using the passed DataLoader object.\n",
    "    \"\"\"\n",
    "    cumulative_tr_loss, cumulative_tr_acc = 0, 0\n",
    "    \n",
    "    model.train()\n",
    "    for batch_num, (X, y) in enumerate(train_dataloader):\n",
    "        \n",
    "        X, y = X.to(device=device), y.to(device=device)\n",
    "\n",
    "        y_pred_batch = model(X)\n",
    "\n",
    "        batch_loss = loss_function(y_pred_batch, y)\n",
    "        tr_acc = accuracy_func(y, y_pred_batch.argmax(dim = 1))\n",
    "        cumulative_tr_acc += tr_acc\n",
    "        \n",
    "        # accumulate training loss for an epoch for plotting purpose\n",
    "        # ensure to detach the variable value from the computation graph\n",
    "        cumulative_tr_loss += batch_loss.to(\"cpu\").item()\n",
    "\n",
    "        # wipe out garbage gradients accumulated\n",
    "        optimizer.zero_grad()\n",
    "\n",
    "        # backpropagation to calculate gradients\n",
    "        batch_loss.backward()\n",
    "\n",
    "        # optimizer the model parameters once per batch\n",
    "        optimizer.step()\n",
    "      \n",
    "    \n",
    "    # average training loss per batch\n",
    "    avg_tr_loss_per_batch = cumulative_tr_loss/len(train_dataloader)\n",
    "    avg_tr_acc_per_batch = cumulative_tr_acc/len(train_dataloader)\n",
    "\n",
    "    print(\"Avg tr loss/batch: \", round(avg_tr_loss_per_batch,3), \"Avg tr acc/batch: \", round(avg_tr_acc_per_batch,3))\n",
    "    return avg_tr_acc_per_batch, avg_tr_loss_per_batch\n"
   ]
  },
  {
   "cell_type": "code",
   "execution_count": 47,
   "metadata": {},
   "outputs": [],
   "source": [
    "def test_step(model: torch.nn.Module,\n",
    "                data_loader : torch.utils.data.DataLoader,\n",
    "                loss_function : torch.nn.Module,\n",
    "                accuracy_func,\n",
    "                device : torch.device = device):\n",
    "    \"\"\"\n",
    "    Performs a testing loop using the passed torch.nn.Module object over the passed DataLoader object.\n",
    "    \"\"\"\n",
    "\n",
    "    cumulative_test_loss, cumulative_test_acc = 0, 0\n",
    "\n",
    "    model.eval()\n",
    "    with torch.inference_mode():\n",
    "\n",
    "        for batch_num, (X,y) in enumerate(test_dataloader):\n",
    "\n",
    "            X, y = X.to(device=device), y.to(device=device)\n",
    "\n",
    "            test_preds = model(X)\n",
    "            test_loss = loss_function(test_preds, y)\n",
    "            cumulative_test_loss += test_loss.item()\n",
    "\n",
    "            test_acc = accuracy_func(y, test_preds.argmax(dim = 1))\n",
    "            cumulative_test_acc += test_acc\n",
    "        \n",
    "        # calculate average test loss and test accuracy per batch\n",
    "        avg_test_loss_per_batch = cumulative_test_loss/len(test_dataloader)\n",
    "        avg_test_acc_per_batch = cumulative_test_acc/len(test_dataloader)\n",
    "        \n",
    "        print(\"Avg test loss/batch:\", round(avg_test_loss_per_batch,3),\"Average test acc/batch:\", round(avg_test_acc_per_batch,3))\n",
    "    \n",
    "    return avg_test_acc_per_batch, avg_test_loss_per_batch"
   ]
  },
  {
   "cell_type": "code",
   "execution_count": 48,
   "metadata": {},
   "outputs": [
    {
     "name": "stdout",
     "output_type": "stream",
     "text": [
      "\n",
      "Epoch  0\n",
      "Avg tr loss/batch:  1.475 Avg tr acc/batch:  57.086\n",
      "Avg test loss/batch: 0.958 Average test acc/batch: 68.332\n",
      "Epoch training time: 10.325 seconds.\n",
      "\n",
      "Epoch  1\n",
      "Avg tr loss/batch:  0.82 Avg tr acc/batch:  72.776\n",
      "Avg test loss/batch: 0.759 Average test acc/batch: 73.955\n",
      "Epoch training time: 10.302 seconds.\n",
      "\n",
      "Epoch  2\n",
      "Avg tr loss/batch:  0.692 Avg tr acc/batch:  76.714\n",
      "Avg test loss/batch: 0.675 Average test acc/batch: 76.851\n",
      "Epoch training time: 10.161 seconds.\n",
      "\n",
      "Epoch  3\n",
      "Avg tr loss/batch:  0.627 Avg tr acc/batch:  79.003\n",
      "Avg test loss/batch: 0.628 Average test acc/batch: 78.404\n",
      "Epoch training time: 10.142 seconds.\n",
      "\n",
      "Epoch  4\n",
      "Avg tr loss/batch:  0.586 Avg tr acc/batch:  80.319\n",
      "Avg test loss/batch: 0.595 Average test acc/batch: 79.598\n",
      "Epoch training time: 10.374 seconds.\n",
      "\n",
      "Epoch  5\n",
      "Avg tr loss/batch:  0.558 Avg tr acc/batch:  81.247\n",
      "Avg test loss/batch: 0.571 Average test acc/batch: 80.583\n",
      "Epoch training time: 10.677 seconds.\n",
      "\n",
      "Epoch  6\n",
      "Avg tr loss/batch:  0.537 Avg tr acc/batch:  81.898\n",
      "Avg test loss/batch: 0.552 Average test acc/batch: 81.16\n",
      "Epoch training time: 10.157 seconds.\n",
      "\n",
      "Epoch  7\n",
      "Avg tr loss/batch:  0.521 Avg tr acc/batch:  82.294\n",
      "Avg test loss/batch: 0.543 Average test acc/batch: 81.369\n",
      "Epoch training time: 10.122 seconds.\n",
      "\n",
      "Epoch  8\n",
      "Avg tr loss/batch:  0.509 Avg tr acc/batch:  82.691\n",
      "Avg test loss/batch: 0.532 Average test acc/batch: 81.568\n",
      "Epoch training time: 10.385 seconds.\n",
      "\n",
      "Epoch  9\n",
      "Avg tr loss/batch:  0.499 Avg tr acc/batch:  82.942\n",
      "Avg test loss/batch: 0.52 Average test acc/batch: 81.996\n",
      "Epoch training time: 10.354 seconds.\n",
      "\n",
      "Epoch  10\n",
      "Avg tr loss/batch:  0.49 Avg tr acc/batch:  83.212\n",
      "Avg test loss/batch: 0.517 Average test acc/batch: 81.947\n",
      "Epoch training time: 10.193 seconds.\n",
      "\n",
      "Epoch  11\n",
      "Avg tr loss/batch:  0.482 Avg tr acc/batch:  83.394\n",
      "Avg test loss/batch: 0.51 Average test acc/batch: 82.136\n",
      "Epoch training time: 10.65 seconds.\n",
      "\n",
      "Epoch  12\n",
      "Avg tr loss/batch:  0.476 Avg tr acc/batch:  83.575\n",
      "Avg test loss/batch: 0.504 Average test acc/batch: 82.265\n",
      "Epoch training time: 10.185 seconds.\n",
      "\n",
      "Epoch  13\n",
      "Avg tr loss/batch:  0.471 Avg tr acc/batch:  83.794\n",
      "Avg test loss/batch: 0.499 Average test acc/batch: 82.335\n",
      "Epoch training time: 10.187 seconds.\n",
      "\n",
      "Epoch  14\n",
      "Avg tr loss/batch:  0.466 Avg tr acc/batch:  83.994\n",
      "Avg test loss/batch: 0.494 Average test acc/batch: 82.952\n",
      "Epoch training time: 10.159 seconds.\n",
      "\n",
      "Epoch  15\n",
      "Avg tr loss/batch:  0.461 Avg tr acc/batch:  84.14\n",
      "Avg test loss/batch: 0.493 Average test acc/batch: 82.773\n",
      "Epoch training time: 10.18 seconds.\n",
      "\n",
      "Epoch  16\n",
      "Avg tr loss/batch:  0.457 Avg tr acc/batch:  84.248\n",
      "Avg test loss/batch: 0.491 Average test acc/batch: 82.912\n",
      "Epoch training time: 10.437 seconds.\n",
      "\n",
      "Epoch  17\n",
      "Avg tr loss/batch:  0.454 Avg tr acc/batch:  84.4\n",
      "Avg test loss/batch: 0.484 Average test acc/batch: 83.081\n",
      "Epoch training time: 10.354 seconds.\n",
      "\n",
      "Epoch  18\n",
      "Avg tr loss/batch:  0.45 Avg tr acc/batch:  84.493\n",
      "Avg test loss/batch: 0.489 Average test acc/batch: 82.494\n",
      "Epoch training time: 10.069 seconds.\n",
      "\n",
      "Epoch  19\n",
      "Avg tr loss/batch:  0.447 Avg tr acc/batch:  84.567\n",
      "Avg test loss/batch: 0.476 Average test acc/batch: 83.26\n",
      "Epoch training time: 10.111 seconds.\n"
     ]
    }
   ],
   "source": [
    "# create a classifier.\n",
    "# shape of a FashionMNIST image is 28*28 and there are 10 different output labels.\n",
    "torch.manual_seed(42)\n",
    "torch.cuda.manual_seed(42)\n",
    "\n",
    "classifier = FashionMNIST_classifier(input_shape=28*28, hidden_units=10, output_shape=10)\n",
    "classifier = classifier.to(device=device)\n",
    "\n",
    "loss_function = torch.nn.CrossEntropyLoss()\n",
    "optimizer = torch.optim.SGD(params= classifier.parameters(), lr= 0.005)\n",
    "\n",
    "epochs = 20\n",
    "epochs_ctr = []\n",
    "avg_tr_loss_per_batch_list = []\n",
    "avg_tr_acc_per_batch_list = []\n",
    "avg_test_loss_per_batch_list = []\n",
    "avg_test_acc_per_batch_list = []\n",
    "\n",
    "\n",
    "\n",
    "for epoch in range(0, epochs):\n",
    "    \n",
    "    epoch_training_time_start = timer()\n",
    "\n",
    "    print(\"\\nEpoch \", epoch)\n",
    "    epochs_ctr.append(epoch)\n",
    "    cumulative_training_loss_per_epoch = 0\n",
    "    cumulative_tr_acc_per_epoch = 0\n",
    "\n",
    "    ### modular training step ###\n",
    "    avg_tr_acc_per_batch, avg_tr_loss_per_batch = training_step(model=classifier,\n",
    "                                                                data_loader=train_dataloader,\n",
    "                                                                loss_function=loss_function,\n",
    "                                                                optimizer=optimizer,\n",
    "                                                                accuracy_func= accuracy_fn,\n",
    "                                                                device=device)\n",
    "\n",
    "    # store average loss and accuracy for plot\n",
    "    avg_tr_acc_per_batch_list.append(avg_tr_acc_per_batch)\n",
    "    avg_tr_loss_per_batch_list.append(avg_tr_loss_per_batch)\n",
    "\n",
    "    ### modular test loop ###\n",
    "    avg_test_acc_per_batch, avg_test_loss_per_batch = test_step(model=classifier,\n",
    "                                                                data_loader=test_dataloader,\n",
    "                                                                loss_function=loss_function,\n",
    "                                                                accuracy_func=accuracy_fn,\n",
    "                                                                device=device)\n",
    "          \n",
    "    # store average loss and accuracy for plot\n",
    "    avg_test_loss_per_batch_list.append(avg_test_loss_per_batch)\n",
    "    avg_test_acc_per_batch_list.append(avg_test_acc_per_batch)\n",
    "\n",
    "    \n",
    "    # calculate epoch training time\n",
    "    epoch_training_end_time = timer()\n",
    "    total_training_time = print_training_time(start=epoch_training_time_start, end=epoch_training_end_time, device=str(next(classifier.parameters())))\n"
   ]
  },
  {
   "cell_type": "code",
   "execution_count": 49,
   "metadata": {},
   "outputs": [
    {
     "data": {
      "image/png": "[encoded data removed]",
      "text/plain": [
       "<Figure size 1200x600 with 2 Axes>"
      ]
     },
     "metadata": {},
     "output_type": "display_data"
    }
   ],
   "source": [
    "plt.figure(figsize=(12,6))\n",
    "\n",
    "# subplot 1\n",
    "plt.subplot(1,2,1) \n",
    "plt.title(\"Loss\")\n",
    "plt.plot(epochs_ctr, avg_tr_loss_per_batch_list, \"g\", label = \"Training Loss\")\n",
    "plt.plot(epochs_ctr, avg_test_loss_per_batch_list, \"r\", label = \"Test Loss\")\n",
    "plt.title(\"Training and Test Loss Curves\")\n",
    "plt.xlabel(\"Epochs\")\n",
    "plt.ylabel(\"Loss\")\n",
    "\n",
    "# subplot 2\n",
    "plt.subplot(1,2,2)\n",
    "plt.title(\"Test\")\n",
    "plt.title(\"Accuracy\")\n",
    "plt.plot(epochs_ctr, avg_tr_acc_per_batch_list, \"g\", label = \"Training Accuracy\")\n",
    "plt.plot(epochs_ctr, avg_test_acc_per_batch_list, \"r\", label = \"Test Accuracy\")\n",
    "plt.title(\"Training and Test Accuracy Curves\")\n",
    "plt.xlabel(\"Epochs\")\n",
    "plt.ylabel(\"Accuray\")\n",
    "\n",
    "plt.legend()\n",
    "plt.show()"
   ]
  },
  {
   "attachments": {},
   "cell_type": "markdown",
   "metadata": {},
   "source": [
    "As seen above, the training time for each epoch is around 10 seconds i.e., it has decreased as compared to training on CPU. GPUs speed up training by being more efficient at matrix multiplication which is performed by all types of neural network layers. Also, the NN model used here is small and the number of training samples is in thousands. Hence, there is little improvement room. If the number of samples per epoch were very large and the layer were a very complex network, this improvement in training time would have been huge.<br><br>\n",
    "Sometimes, training on CPU can be faster than training on GPU<br>\n",
    "- if the overhead of copying data from CPU to GPU and vice-versa is more than the speed-up provided by the parallel matrix computations on GPU.<br>\n",
    "- if the CPU used is a very fast one as compared to the used GPU (which is very unlikely in practice.)"
   ]
  },
  {
   "attachments": {},
   "cell_type": "markdown",
   "metadata": {},
   "source": []
  }
 ],
 "metadata": {
  "kernelspec": {
   "display_name": ".venv",
   "language": "python",
   "name": "python3"
  },
  "language_info": {
   "codemirror_mode": {
    "name": "ipython",
    "version": 3
   },
   "file_extension": ".py",
   "mimetype": "text/x-python",
   "name": "python",
   "nbconvert_exporter": "python",
   "pygments_lexer": "ipython3",
   "version": "3.10.11"
  },
  "orig_nbformat": 4
 },
 "nbformat": 4,
 "nbformat_minor": 2
}
