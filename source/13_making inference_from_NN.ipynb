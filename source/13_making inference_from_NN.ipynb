{
 "cells": [
  {
   "attachments": {},
   "cell_type": "markdown",
   "metadata": {},
   "source": [
    "Here, we will make predictions using the Linear Regression model defined previously in linear_regression.py module."
   ]
  },
  {
   "cell_type": "code",
   "execution_count": 1,
   "metadata": {},
   "outputs": [],
   "source": [
    "import torch\n",
    "from torch import nn\n",
    "\n",
    "import linear_regression, utils"
   ]
  },
  {
   "cell_type": "code",
   "execution_count": 2,
   "metadata": {},
   "outputs": [],
   "source": [
    "lin_reg_model = linear_regression.Linear_Regresssion_Model()"
   ]
  },
  {
   "attachments": {},
   "cell_type": "markdown",
   "metadata": {},
   "source": [
    "Predict `y_test` from `x_test`."
   ]
  },
  {
   "cell_type": "code",
   "execution_count": 3,
   "metadata": {},
   "outputs": [
    {
     "data": {
      "text/plain": [
       "tensor([[1.2000],\n",
       "        [1.3500],\n",
       "        [1.5000],\n",
       "        [1.6500],\n",
       "        [1.8000],\n",
       "        [1.9500],\n",
       "        [2.1000],\n",
       "        [2.2500],\n",
       "        [2.4000],\n",
       "        [2.5500],\n",
       "        [2.7000],\n",
       "        [2.8500],\n",
       "        [3.0000],\n",
       "        [3.1500],\n",
       "        [3.3000],\n",
       "        [3.4500],\n",
       "        [3.6000],\n",
       "        [3.7500],\n",
       "        [3.9000]])"
      ]
     },
     "execution_count": 3,
     "metadata": {},
     "output_type": "execute_result"
    }
   ],
   "source": [
    "X = torch.arange(1,10.1,0.5)\n",
    "X = X.unsqueeze(dim = 1)\n",
    "weight = 0.3\n",
    "bias = 0.9\n",
    "y = weight * X + bias\n",
    "y\n"
   ]
  },
  {
   "cell_type": "code",
   "execution_count": 4,
   "metadata": {},
   "outputs": [
    {
     "data": {
      "text/plain": [
       "(tensor([[ 6.5000],\n",
       "         [ 7.0000],\n",
       "         [ 7.5000],\n",
       "         [ 8.0000],\n",
       "         [ 8.5000],\n",
       "         [ 9.0000],\n",
       "         [ 9.5000],\n",
       "         [10.0000]]),\n",
       " tensor([[2.8500],\n",
       "         [3.0000],\n",
       "         [3.1500],\n",
       "         [3.3000],\n",
       "         [3.4500],\n",
       "         [3.6000],\n",
       "         [3.7500],\n",
       "         [3.9000]]))"
      ]
     },
     "execution_count": 4,
     "metadata": {},
     "output_type": "execute_result"
    }
   ],
   "source": [
    "train_split = int(0.6 * len(X))\n",
    "train_X, train_y = X[:train_split], y[:train_split]\n",
    "test_X, test_y = X[train_split:], y[train_split:]\n",
    "test_X, test_y"
   ]
  },
  {
   "attachments": {},
   "cell_type": "markdown",
   "metadata": {},
   "source": [
    "Make predictions using `torch.inference_mode()`. Note that `torch.inference_mode()` is optional but it automatically detaches the `predicitons` variable from the computation graph so as to not keep track of this variable wrt to the computation graph. It also makes the inference faster."
   ]
  },
  {
   "cell_type": "code",
   "execution_count": 13,
   "metadata": {},
   "outputs": [
    {
     "data": {
      "text/plain": [
       "tensor([[1.7771],\n",
       "        [1.7871],\n",
       "        [1.7971],\n",
       "        [1.8071],\n",
       "        [1.8172],\n",
       "        [1.8272],\n",
       "        [1.8372],\n",
       "        [1.8473]])"
      ]
     },
     "execution_count": 13,
     "metadata": {},
     "output_type": "execute_result"
    }
   ],
   "source": [
    "# predictions = lin_reg_model(test_X)\n",
    "\n",
    "# using context manager to make inference\n",
    "with torch.inference_mode():\n",
    "    predictions = lin_reg_model(test_X)\n",
    "\n",
    "predictions"
   ]
  },
  {
   "attachments": {},
   "cell_type": "markdown",
   "metadata": {},
   "source": [
    "Check the difference for each element of the y_test vs. predictions."
   ]
  },
  {
   "cell_type": "code",
   "execution_count": 14,
   "metadata": {},
   "outputs": [
    {
     "data": {
      "text/plain": [
       "tensor([[1.0729],\n",
       "        [1.2129],\n",
       "        [1.3529],\n",
       "        [1.4929],\n",
       "        [1.6328],\n",
       "        [1.7728],\n",
       "        [1.9128],\n",
       "        [2.0527]])"
      ]
     },
     "execution_count": 14,
     "metadata": {},
     "output_type": "execute_result"
    }
   ],
   "source": [
    "test_y - predictions"
   ]
  },
  {
   "attachments": {},
   "cell_type": "markdown",
   "metadata": {},
   "source": [
    "If the values were 0.0 for each element, our model would have been perfect. But it is not. Let's visualize our `predictions` vs the ground truth for `y_test`. Notice that if the inference was not made with the `inference_mode()`, the `predictions` variable is still attached to the computation graph and is first detached from the computation graph in order to pass it to `plot_predictions()`."
   ]
  },
  {
   "cell_type": "code",
   "execution_count": 16,
   "metadata": {},
   "outputs": [
    {
     "data": {
      "image/png": "[encoded data removed]",
      "text/plain": [
       "<Figure size 1000x700 with 1 Axes>"
      ]
     },
     "metadata": {},
     "output_type": "display_data"
    }
   ],
   "source": [
    "# if context manager was not used while making predictions above\n",
    "#utils.plot_predictions(train_X, train_y, test_X, test_y, predictions.detach().numpy())\n",
    "\n",
    "# if context manager used above\n",
    "utils.plot_predictions(train_X, train_y, test_X, test_y, predictions)"
   ]
  },
  {
   "attachments": {},
   "cell_type": "markdown",
   "metadata": {},
   "source": [
    "As visible above, the model's predictions are far from being accurate."
   ]
  },
  {
   "attachments": {},
   "cell_type": "markdown",
   "metadata": {},
   "source": []
  }
 ],
 "metadata": {
  "kernelspec": {
   "display_name": ".venv",
   "language": "python",
   "name": "python3"
  },
  "language_info": {
   "codemirror_mode": {
    "name": "ipython",
    "version": 3
   },
   "file_extension": ".py",
   "mimetype": "text/x-python",
   "name": "python",
   "nbconvert_exporter": "python",
   "pygments_lexer": "ipython3",
   "version": "3.10.11"
  },
  "orig_nbformat": 4
 },
 "nbformat": 4,
 "nbformat_minor": 2
}
