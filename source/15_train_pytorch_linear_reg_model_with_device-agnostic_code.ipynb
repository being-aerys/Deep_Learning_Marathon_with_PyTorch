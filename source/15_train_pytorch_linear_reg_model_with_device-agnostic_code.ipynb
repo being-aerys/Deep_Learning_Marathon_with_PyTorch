{
 "cells": [
  {
   "cell_type": "code",
   "execution_count": 24,
   "metadata": {},
   "outputs": [],
   "source": [
    "#from tqdm import tqdm\n",
    "import torch\n",
    "from torch import nn\n",
    "import matplotlib.pyplot as plt\n",
    "import utils"
   ]
  },
  {
   "attachments": {},
   "cell_type": "markdown",
   "metadata": {},
   "source": [
    "#### Generate the training and test data first."
   ]
  },
  {
   "cell_type": "code",
   "execution_count": 25,
   "metadata": {},
   "outputs": [
    {
     "data": {
      "text/plain": [
       "tensor([[1.2000],\n",
       "        [1.3500],\n",
       "        [1.5000],\n",
       "        [1.6500],\n",
       "        [1.8000],\n",
       "        [1.9500],\n",
       "        [2.1000],\n",
       "        [2.2500],\n",
       "        [2.4000],\n",
       "        [2.5500],\n",
       "        [2.7000],\n",
       "        [2.8500],\n",
       "        [3.0000],\n",
       "        [3.1500],\n",
       "        [3.3000],\n",
       "        [3.4500],\n",
       "        [3.6000],\n",
       "        [3.7500],\n",
       "        [3.9000]])"
      ]
     },
     "execution_count": 25,
     "metadata": {},
     "output_type": "execute_result"
    }
   ],
   "source": [
    "X = torch.arange(1,10.1,0.5)\n",
    "X = X.unsqueeze(dim = 1)\n",
    "weight = 0.3\n",
    "bias = 0.9\n",
    "y = weight * X + bias\n",
    "y"
   ]
  },
  {
   "cell_type": "code",
   "execution_count": 26,
   "metadata": {},
   "outputs": [
    {
     "data": {
      "text/plain": [
       "(tensor([[ 6.5000],\n",
       "         [ 7.0000],\n",
       "         [ 7.5000],\n",
       "         [ 8.0000],\n",
       "         [ 8.5000],\n",
       "         [ 9.0000],\n",
       "         [ 9.5000],\n",
       "         [10.0000]]),\n",
       " tensor([[2.8500],\n",
       "         [3.0000],\n",
       "         [3.1500],\n",
       "         [3.3000],\n",
       "         [3.4500],\n",
       "         [3.6000],\n",
       "         [3.7500],\n",
       "         [3.9000]]))"
      ]
     },
     "execution_count": 26,
     "metadata": {},
     "output_type": "execute_result"
    }
   ],
   "source": [
    "train_split = int(0.6 * len(X))\n",
    "train_X, train_y = X[:train_split], y[:train_split]\n",
    "test_X, test_y = X[train_split:], y[train_split:]\n",
    "test_X, test_y"
   ]
  },
  {
   "attachments": {},
   "cell_type": "markdown",
   "metadata": {},
   "source": [
    "#### Instantiate PyTorch's Linear Regression Model instead of a custom model."
   ]
  },
  {
   "cell_type": "code",
   "execution_count": 27,
   "metadata": {},
   "outputs": [
    {
     "data": {
      "text/plain": [
       "Linear_Regression(\n",
       "  (input_layer): Linear(in_features=1, out_features=1, bias=True)\n",
       ")"
      ]
     },
     "execution_count": 27,
     "metadata": {},
     "output_type": "execute_result"
    }
   ],
   "source": [
    "class Linear_Regression(nn.Module):\n",
    "\n",
    "    def __init__(self):\n",
    "        super().__init__()\n",
    "        self.input_layer = nn.Linear(in_features=1,\n",
    "                                      out_features=1)\n",
    "\n",
    "    def forward(self, x: torch.Tensor) -> torch.Tensor:\n",
    "        \"\"\"\n",
    "        calculates and returns the output of the neural network\n",
    "        \"\"\"\n",
    "        output = self.input_layer(x)\n",
    "        return output\n",
    "\n",
    "torch.manual_seed(42)\n",
    "lin_reg_model = Linear_Regression()\n",
    "lin_reg_model"
   ]
  },
  {
   "cell_type": "code",
   "execution_count": 28,
   "metadata": {},
   "outputs": [
    {
     "data": {
      "text/plain": [
       "OrderedDict([('input_layer.weight', tensor([[0.7645]])),\n",
       "             ('input_layer.bias', tensor([0.8300]))])"
      ]
     },
     "execution_count": 28,
     "metadata": {},
     "output_type": "execute_result"
    }
   ],
   "source": [
    "lin_reg_model.state_dict()"
   ]
  },
  {
   "attachments": {},
   "cell_type": "markdown",
   "metadata": {},
   "source": [
    "#### Set up device.\n",
    "It is seen above that the model parameters are not on CUDA device."
   ]
  },
  {
   "cell_type": "code",
   "execution_count": 29,
   "metadata": {},
   "outputs": [
    {
     "data": {
      "text/plain": [
       "device(type='cpu')"
      ]
     },
     "execution_count": 29,
     "metadata": {},
     "output_type": "execute_result"
    }
   ],
   "source": [
    "# check the current device on which the model's parameters were created.\n",
    "next(lin_reg_model.parameters()).device"
   ]
  },
  {
   "cell_type": "code",
   "execution_count": 30,
   "metadata": {},
   "outputs": [
    {
     "data": {
      "text/plain": [
       "'cuda'"
      ]
     },
     "execution_count": 30,
     "metadata": {},
     "output_type": "execute_result"
    }
   ],
   "source": [
    "device = \"cuda\" if torch.cuda.is_available() else \"cpu\"\n",
    "device"
   ]
  },
  {
   "attachments": {},
   "cell_type": "markdown",
   "metadata": {},
   "source": [
    "#### Send the model and the input to GPU.\n"
   ]
  },
  {
   "cell_type": "code",
   "execution_count": 31,
   "metadata": {},
   "outputs": [
    {
     "data": {
      "text/plain": [
       "device(type='cuda', index=0)"
      ]
     },
     "execution_count": 31,
     "metadata": {},
     "output_type": "execute_result"
    }
   ],
   "source": [
    "lin_reg_model.to(device=device)\n",
    "next(lin_reg_model.parameters()).device"
   ]
  },
  {
   "cell_type": "code",
   "execution_count": 32,
   "metadata": {},
   "outputs": [
    {
     "data": {
      "text/plain": [
       "OrderedDict([('input_layer.weight', tensor([[0.7645]], device='cuda:0')),\n",
       "             ('input_layer.bias', tensor([0.8300], device='cuda:0'))])"
      ]
     },
     "execution_count": 32,
     "metadata": {},
     "output_type": "execute_result"
    }
   ],
   "source": [
    "lin_reg_model.state_dict()"
   ]
  },
  {
   "cell_type": "code",
   "execution_count": 33,
   "metadata": {},
   "outputs": [
    {
     "data": {
      "text/plain": [
       "(tensor([[1.0000],\n",
       "         [1.5000],\n",
       "         [2.0000],\n",
       "         [2.5000],\n",
       "         [3.0000],\n",
       "         [3.5000],\n",
       "         [4.0000],\n",
       "         [4.5000],\n",
       "         [5.0000],\n",
       "         [5.5000],\n",
       "         [6.0000]], device='cuda:0'),\n",
       " tensor([[ 6.5000],\n",
       "         [ 7.0000],\n",
       "         [ 7.5000],\n",
       "         [ 8.0000],\n",
       "         [ 8.5000],\n",
       "         [ 9.0000],\n",
       "         [ 9.5000],\n",
       "         [10.0000]], device='cuda:0'))"
      ]
     },
     "execution_count": 33,
     "metadata": {},
     "output_type": "execute_result"
    }
   ],
   "source": [
    "train_X = train_X.to(device = device)\n",
    "train_y = train_y.to(device=device)\n",
    "test_X = test_X.to(device = device)\n",
    "test_y = test_y.to(device=device)\n",
    "train_X, test_X"
   ]
  },
  {
   "attachments": {},
   "cell_type": "markdown",
   "metadata": {},
   "source": [
    "#### Predictions before the model is trained."
   ]
  },
  {
   "cell_type": "code",
   "execution_count": 34,
   "metadata": {},
   "outputs": [
    {
     "data": {
      "text/plain": [
       "tensor([[5.7995],\n",
       "        [6.1818],\n",
       "        [6.5640],\n",
       "        [6.9463],\n",
       "        [7.3286],\n",
       "        [7.7109],\n",
       "        [8.0931],\n",
       "        [8.4754]], device='cuda:0')"
      ]
     },
     "execution_count": 34,
     "metadata": {},
     "output_type": "execute_result"
    }
   ],
   "source": [
    "# set the NN to evaluation mode\n",
    "lin_reg_model.eval()\n",
    "\n",
    "# predictions = lin_reg_model(test_X)\n",
    "# using context manager to make inference\n",
    "with torch.inference_mode():\n",
    "    predictions = lin_reg_model(test_X)\n",
    "\n",
    "predictions"
   ]
  },
  {
   "cell_type": "code",
   "execution_count": 35,
   "metadata": {},
   "outputs": [
    {
     "data": {
      "image/png": "[encoded data removed]",
      "text/plain": [
       "<Figure size 1000x700 with 1 Axes>"
      ]
     },
     "metadata": {},
     "output_type": "display_data"
    }
   ],
   "source": [
    "# if context manager was not used while making predictions above\n",
    "#utils.plot_predictions(train_X, train_y, test_X, test_y, predictions.detach().numpy())\n",
    "\n",
    "# if context manager used above\n",
    "utils.plot_predictions(train_X.to(\"cpu\"), train_y.to(\"cpu\"), test_X.to(\"cpu\"), test_y.to(\"cpu\"), predictions.to(\"cpu\"))"
   ]
  },
  {
   "attachments": {},
   "cell_type": "markdown",
   "metadata": {},
   "source": [
    "#### Train the model\n",
    "One way to measure how bad the predictions are is to use the loss functions. `torch.nn` has many pre-defined loss functions such as L1 loss, L2 loss, CrossEntropy loss, etc. In order to train a model based on how bad the current predictions are according to a loss function, we need an optimizer that tries to minimize the error in terms of the loss function. torch has `torch.optim` module that makes many optimizers such as `torch.optim.SGD` available."
   ]
  },
  {
   "attachments": {},
   "cell_type": "markdown",
   "metadata": {},
   "source": [
    "Set up a loss function."
   ]
  },
  {
   "cell_type": "code",
   "execution_count": 36,
   "metadata": {},
   "outputs": [
    {
     "data": {
      "text/plain": [
       "MSELoss()"
      ]
     },
     "execution_count": 36,
     "metadata": {},
     "output_type": "execute_result"
    }
   ],
   "source": [
    "loss_func = nn.MSELoss()\n",
    "loss_func"
   ]
  },
  {
   "attachments": {},
   "cell_type": "markdown",
   "metadata": {},
   "source": [
    "Set up an optimizer."
   ]
  },
  {
   "cell_type": "code",
   "execution_count": 37,
   "metadata": {},
   "outputs": [
    {
     "data": {
      "text/plain": [
       "SGD (\n",
       "Parameter Group 0\n",
       "    dampening: 0\n",
       "    differentiable: False\n",
       "    foreach: None\n",
       "    lr: 0.0001\n",
       "    maximize: False\n",
       "    momentum: 0\n",
       "    nesterov: False\n",
       "    weight_decay: 0\n",
       ")"
      ]
     },
     "execution_count": 37,
     "metadata": {},
     "output_type": "execute_result"
    }
   ],
   "source": [
    "optimizer = torch.optim.SGD(params = lin_reg_model.parameters(),\n",
    "                             lr = 0.0001)\n",
    "optimizer"
   ]
  },
  {
   "attachments": {},
   "cell_type": "markdown",
   "metadata": {},
   "source": [
    "Set up the training and testing loop."
   ]
  },
  {
   "cell_type": "code",
   "execution_count": 38,
   "metadata": {},
   "outputs": [
    {
     "name": "stdout",
     "output_type": "stream",
     "text": [
      "\n",
      "EPOCH  0  | Training loss:  2.9602925777435303  | Test loss:  14.353410720825195\n",
      "\n",
      "EPOCH  50  | Training loss:  2.1675968170166016  | Test loss:  10.664352416992188\n",
      "\n",
      "EPOCH  100  | Training loss:  1.5875158309936523  | Test loss:  7.942463397979736\n",
      "\n",
      "EPOCH  150  | Training loss:  1.1630213260650635  | Test loss:  5.931575775146484\n",
      "\n",
      "EPOCH  200  | Training loss:  0.8523814678192139  | Test loss:  4.44376277923584\n",
      "\n",
      "EPOCH  250  | Training loss:  0.6250580549240112  | Test loss:  3.341099739074707\n",
      "\n",
      "EPOCH  300  | Training loss:  0.4587043225765228  | Test loss:  2.5223076343536377\n",
      "\n",
      "EPOCH  350  | Training loss:  0.3369661271572113  | Test loss:  1.912976622581482\n",
      "\n",
      "EPOCH  400  | Training loss:  0.24787767231464386  | Test loss:  1.4584077596664429\n",
      "\n",
      "EPOCH  450  | Training loss:  0.18268074095249176  | Test loss:  1.1183485984802246\n",
      "\n",
      "EPOCH  500  | Training loss:  0.1349669098854065  | Test loss:  0.8631631731987\n",
      "\n",
      "EPOCH  550  | Training loss:  0.10004672408103943  | Test loss:  0.6710070371627808\n",
      "\n",
      "EPOCH  600  | Training loss:  0.07448882609605789  | Test loss:  0.5257620811462402\n",
      "\n",
      "EPOCH  650  | Training loss:  0.05578215792775154  | Test loss:  0.41551822423934937\n",
      "\n",
      "EPOCH  700  | Training loss:  0.042088791728019714  | Test loss:  0.331459641456604\n",
      "\n",
      "EPOCH  750  | Training loss:  0.03206436708569527  | Test loss:  0.26705506443977356\n",
      "\n",
      "EPOCH  800  | Training loss:  0.024724695831537247  | Test loss:  0.21745115518569946\n",
      "\n",
      "EPOCH  850  | Training loss:  0.01934959925711155  | Test loss:  0.17903439700603485\n",
      "\n",
      "EPOCH  900  | Training loss:  0.01541222631931305  | Test loss:  0.14911073446273804\n",
      "\n",
      "EPOCH  950  | Training loss:  0.0125270439311862  | Test loss:  0.125663161277771\n"
     ]
    }
   ],
   "source": [
    "torch.manual_seed(42)\n",
    "\n",
    "epochs = 1000\n",
    "epoch_ctr = []\n",
    "training_loss_list = []\n",
    "test_loss_list = []\n",
    "\n",
    "# for each pass of the training data\n",
    "for epoch in range(0, epochs):        \n",
    "\n",
    "    ###### TRAINING SECTION\n",
    "    # set the model to training mode\n",
    "    lin_reg_model.train()\n",
    "\n",
    "    # make predictions for all training data\n",
    "    predictions = lin_reg_model(train_X)\n",
    "    \n",
    "    # calculate the training loss\n",
    "    training_loss = loss_func(predictions, train_y)\n",
    "    \n",
    "    # clear the garbage gradient value\n",
    "    optimizer.zero_grad()\n",
    "    \n",
    "    # calculate the gradients using backpropagation\n",
    "    training_loss.backward()\n",
    "    \n",
    "    # update model parameters using the calculated gradients\n",
    "    optimizer.step()\n",
    "\n",
    "    ###### EVALUATION SECTION\n",
    "\n",
    "    # set the model to evaluation mode\n",
    "    # this ensures that any calculation that is not needed in the test mode is skipped\n",
    "    # such as batch norm or dropout operations\n",
    "    lin_reg_model.eval()\n",
    "    \n",
    "    # evaluate the model after the parameter update\n",
    "    if epoch % 50 == 0:\n",
    "\n",
    "        # inference mode ensures that the gradients are not tracked within this with loop\n",
    "        with torch.inference_mode():\n",
    "\n",
    "            # make predictions for test data\n",
    "            test_predictions = lin_reg_model(test_X)\n",
    "\n",
    "            # calculate the loss\n",
    "            test_loss = loss_func(test_predictions, test_y)\n",
    "            print(\"\\nEPOCH \", epoch, \" | Training loss: \",training_loss.detach().item(),\" | Test loss: \", test_loss.item())\n",
    "            #print(lin_reg_model.state_dict())\n",
    "            # store the training and test loss for the plot\n",
    "            epoch_ctr.append(epoch)\n",
    "            training_loss_list.append(training_loss.to(\"cpu\").item())\n",
    "            test_loss_list.append(test_loss.to(\"cpu\").item())\n",
    "\n",
    "\n"
   ]
  },
  {
   "attachments": {},
   "cell_type": "markdown",
   "metadata": {},
   "source": [
    "As seen above, training for more epochs reduces the test loss in general, heading toward 0. However, over-training will cause the test loss to increase if the learning rate is not gradually reduced."
   ]
  },
  {
   "attachments": {},
   "cell_type": "markdown",
   "metadata": {},
   "source": [
    "#### Plots"
   ]
  },
  {
   "attachments": {},
   "cell_type": "markdown",
   "metadata": {},
   "source": [
    "Prediction vs. Ground Truth"
   ]
  },
  {
   "cell_type": "code",
   "execution_count": 39,
   "metadata": {},
   "outputs": [
    {
     "data": {
      "image/png": "[encoded data removed]",
      "text/plain": [
       "<Figure size 1000x700 with 1 Axes>"
      ]
     },
     "metadata": {},
     "output_type": "display_data"
    }
   ],
   "source": [
    "# plot the predictions vs the ground truth at the end\n",
    "utils.plot_predictions(train_X.to(\"cpu\"), train_y.to(\"cpu\"), test_X.to(\"cpu\"), test_y.to(\"cpu\"), test_predictions.to(\"cpu\"))"
   ]
  },
  {
   "attachments": {},
   "cell_type": "markdown",
   "metadata": {},
   "source": [
    "As seen above, our model has learned a decent estimation of the simple linear regression parameters such that the predictions (in red) are much closed to the ground truth (in blue) than from where we started. "
   ]
  },
  {
   "attachments": {},
   "cell_type": "markdown",
   "metadata": {},
   "source": [
    "Training Loss vs Test Loss"
   ]
  },
  {
   "cell_type": "code",
   "execution_count": 40,
   "metadata": {},
   "outputs": [
    {
     "data": {
      "image/png": "[encoded data removed]",
      "text/plain": [
       "<Figure size 640x480 with 1 Axes>"
      ]
     },
     "metadata": {},
     "output_type": "display_data"
    }
   ],
   "source": [
    "plt.plot(epoch_ctr, training_loss_list, \"g\", label = \"Training Loss\")\n",
    "plt.plot(epoch_ctr, test_loss_list, \"r\", label = \"Test Loss\")\n",
    "plt.title(\"Training Loss and Test Loss Curves\")\n",
    "plt.xlabel(\"Epochs\")\n",
    "plt.ylabel(\"Loss\")\n",
    "plt.legend()\n",
    "plt.show()"
   ]
  },
  {
   "attachments": {},
   "cell_type": "markdown",
   "metadata": {},
   "source": [
    "As seen above, the training and test loss values gradually decrease over the epochs."
   ]
  },
  {
   "attachments": {},
   "cell_type": "markdown",
   "metadata": {},
   "source": [
    "#### Save the trained model so as to re-use later.\n",
    "- `torch.save()` saves a PyTorch object in .pkl format\n",
    "    - This includes a `torch.nn.Module` object (a NN in torch) and a `torch.optim.SGD` object.\n",
    "- `torch.load()` - loads a saved PyTorch object.\n",
    "- `torch.nn.Module.load_state_dict()` allows a saved model parameters to be loaded to a torch NN."
   ]
  },
  {
   "cell_type": "code",
   "execution_count": 51,
   "metadata": {},
   "outputs": [
    {
     "data": {
      "text/plain": [
       "OrderedDict([('input_layer.weight', tensor([[0.3585]], device='cuda:0')),\n",
       "             ('input_layer.bias', tensor([0.7383], device='cuda:0'))])"
      ]
     },
     "execution_count": 51,
     "metadata": {},
     "output_type": "execute_result"
    }
   ],
   "source": [
    "lin_reg_model.state_dict()"
   ]
  },
  {
   "cell_type": "code",
   "execution_count": 48,
   "metadata": {},
   "outputs": [],
   "source": [
    "path_to_save_model = \"saved_params\\lin_reg_model_params.pth\"\n",
    "\n",
    "# save the model and optimizer's state dicts\n",
    "torch.save(lin_reg_model.state_dict(), path_to_save_model)"
   ]
  },
  {
   "attachments": {},
   "cell_type": "markdown",
   "metadata": {},
   "source": [
    "Load a saved model."
   ]
  },
  {
   "cell_type": "code",
   "execution_count": 52,
   "metadata": {},
   "outputs": [
    {
     "data": {
      "text/plain": [
       "OrderedDict([('input_layer.weight', tensor([[-0.4869]], device='cuda:0')),\n",
       "             ('input_layer.bias', tensor([0.5873], device='cuda:0'))])"
      ]
     },
     "execution_count": 52,
     "metadata": {},
     "output_type": "execute_result"
    }
   ],
   "source": [
    "new_model = Linear_Regression().to(device=device)\n",
    "new_model.state_dict() \n"
   ]
  },
  {
   "cell_type": "code",
   "execution_count": 53,
   "metadata": {},
   "outputs": [
    {
     "data": {
      "text/plain": [
       "<All keys matched successfully>"
      ]
     },
     "execution_count": 53,
     "metadata": {},
     "output_type": "execute_result"
    }
   ],
   "source": [
    "new_model.load_state_dict(torch.load(path_to_save_model))"
   ]
  },
  {
   "attachments": {},
   "cell_type": "markdown",
   "metadata": {},
   "source": [
    "#### Evaluate the loaded model.\n",
    "New predictions can be made using this loaded model."
   ]
  },
  {
   "cell_type": "code",
   "execution_count": 54,
   "metadata": {},
   "outputs": [
    {
     "name": "stdout",
     "output_type": "stream",
     "text": [
      "tensor([[3.0686],\n",
      "        [3.2478],\n",
      "        [3.4271],\n",
      "        [3.6063],\n",
      "        [3.7856],\n",
      "        [3.9648],\n",
      "        [4.1441],\n",
      "        [4.3233]], device='cuda:0')\n",
      "tensor([[3.0686],\n",
      "        [3.2478],\n",
      "        [3.4271],\n",
      "        [3.6063],\n",
      "        [3.7856],\n",
      "        [3.9648],\n",
      "        [4.1441],\n",
      "        [4.3233]], device='cuda:0')\n"
     ]
    }
   ],
   "source": [
    "# predict using both models to compare side-by-side\n",
    "lin_reg_model.eval()\n",
    "new_model.eval()\n",
    "with torch.inference_mode():\n",
    "    print(lin_reg_model(test_X))\n",
    "    print(new_model(test_X))"
   ]
  },
  {
   "cell_type": "code",
   "execution_count": 55,
   "metadata": {},
   "outputs": [
    {
     "data": {
      "text/plain": [
       "tensor([[True],\n",
       "        [True],\n",
       "        [True],\n",
       "        [True],\n",
       "        [True],\n",
       "        [True],\n",
       "        [True],\n",
       "        [True]], device='cuda:0')"
      ]
     },
     "execution_count": 55,
     "metadata": {},
     "output_type": "execute_result"
    }
   ],
   "source": [
    "lin_reg_model(test_X) == new_model(test_X)"
   ]
  },
  {
   "attachments": {},
   "cell_type": "markdown",
   "metadata": {},
   "source": [
    "As seen above, both, the original model and the saved model, provide the same predictions."
   ]
  },
  {
   "attachments": {},
   "cell_type": "markdown",
   "metadata": {},
   "source": []
  }
 ],
 "metadata": {
  "kernelspec": {
   "display_name": ".venv",
   "language": "python",
   "name": "python3"
  },
  "language_info": {
   "codemirror_mode": {
    "name": "ipython",
    "version": 3
   },
   "file_extension": ".py",
   "mimetype": "text/x-python",
   "name": "python",
   "nbconvert_exporter": "python",
   "pygments_lexer": "ipython3",
   "version": "3.10.11"
  },
  "orig_nbformat": 4
 },
 "nbformat": 4,
 "nbformat_minor": 2
}
