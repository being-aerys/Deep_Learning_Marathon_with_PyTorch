{
 "cells": [
  {
   "attachments": {},
   "cell_type": "markdown",
   "metadata": {},
   "source": [
    "In contrast to the previous notebook, here, we will make use of the convolutional layer (CNN) to construct a tineVGG-like network to improve image classification. Convolutional layers have been known to learn the patterns present in the image data that fully-connected networks (with or without non-linear activations) are unable to learn efficiecntly and accurately within  feasible time and computation requirement."
   ]
  },
  {
   "cell_type": "code",
   "execution_count": 1,
   "metadata": {},
   "outputs": [
    {
     "data": {
      "text/plain": [
       "('2.0.0+cu118', '0.15.1+cu118')"
      ]
     },
     "execution_count": 1,
     "metadata": {},
     "output_type": "execute_result"
    }
   ],
   "source": [
    "import torch, torchvision\n",
    "torch.__version__, torchvision.__version__"
   ]
  },
  {
   "cell_type": "code",
   "execution_count": 2,
   "metadata": {},
   "outputs": [],
   "source": [
    "from torchvision import datasets\n",
    "from torchvision import transforms\n",
    "from torchvision.transforms import ToTensor\n",
    "\n",
    "import matplotlib.pyplot as plt"
   ]
  },
  {
   "cell_type": "code",
   "execution_count": 3,
   "metadata": {},
   "outputs": [],
   "source": [
    "from timeit import default_timer as timer"
   ]
  },
  {
   "attachments": {},
   "cell_type": "markdown",
   "metadata": {},
   "source": [
    "#### Getting torchvision dataset\n",
    "`torchvision` provides some datasets that we can import to train our models. Here, we will use FashionMNIST dataset for demonstration. The returned variable is of type `Dataset` and has both features and the label of the sample at each index of the dataset."
   ]
  },
  {
   "cell_type": "code",
   "execution_count": 4,
   "metadata": {},
   "outputs": [],
   "source": [
    "train_data = torchvision.datasets.FashionMNIST(root=\"data\",\n",
    "                                               train=True, # download only training dataset\n",
    "                                               download=True,\n",
    "                                               transform=torchvision.transforms.ToTensor(),\n",
    "                                               target_transform=None)\n",
    "\n",
    "test_data = torchvision.datasets.FashionMNIST(root=\"data\",\n",
    "                                               train=False, # download only test dataset\n",
    "                                               download=True,\n",
    "                                               transform=torchvision.transforms.ToTensor(),\n",
    "                                               target_transform=None)"
   ]
  },
  {
   "cell_type": "code",
   "execution_count": 5,
   "metadata": {},
   "outputs": [
    {
     "data": {
      "text/plain": [
       "(torch.Size([1, 28, 28]), 9)"
      ]
     },
     "execution_count": 5,
     "metadata": {},
     "output_type": "execute_result"
    }
   ],
   "source": [
    "first_image, first_targe_label = train_data[0]\n",
    "first_image.shape, first_targe_label"
   ]
  },
  {
   "cell_type": "code",
   "execution_count": 6,
   "metadata": {},
   "outputs": [
    {
     "data": {
      "text/plain": [
       "(<torch.utils.data.dataloader.DataLoader at 0x1c9d538fa30>,\n",
       " <torch.utils.data.dataloader.DataLoader at 0x1c9d538f5b0>)"
      ]
     },
     "execution_count": 6,
     "metadata": {},
     "output_type": "execute_result"
    }
   ],
   "source": [
    "from torch.utils.data import DataLoader\n",
    "\n",
    "BATCH_SIZE = 64\n",
    "\n",
    "train_dataloader = DataLoader(dataset=train_data,\n",
    "                              batch_size=BATCH_SIZE,\n",
    "                              shuffle=True)\n",
    "\n",
    "test_dataloader = DataLoader(dataset=test_data,\n",
    "                              batch_size=BATCH_SIZE,\n",
    "                              shuffle=True)\n",
    "train_dataloader, test_dataloader"
   ]
  },
  {
   "attachments": {},
   "cell_type": "markdown",
   "metadata": {},
   "source": [
    "Let's see how to interact with the dataloader. As mentioned before, `DataLoader` turns our dataset into a Python iterable."
   ]
  },
  {
   "cell_type": "code",
   "execution_count": 7,
   "metadata": {},
   "outputs": [
    {
     "data": {
      "text/plain": [
       "(938, 157)"
      ]
     },
     "execution_count": 7,
     "metadata": {},
     "output_type": "execute_result"
    }
   ],
   "source": [
    "len(train_dataloader), len(test_dataloader)"
   ]
  },
  {
   "cell_type": "code",
   "execution_count": 8,
   "metadata": {},
   "outputs": [
    {
     "data": {
      "text/plain": [
       "(torch.Size([64, 1, 28, 28]),\n",
       " tensor([8, 3, 7, 0, 3, 6, 6, 0, 5, 2, 7, 7, 0, 4, 9, 3, 5, 6, 8, 2, 3, 8, 6, 2,\n",
       "         8, 9, 5, 9, 7, 3, 6, 3, 3, 0, 3, 3, 5, 1, 4, 1, 9, 5, 3, 0, 4, 5, 5, 7,\n",
       "         0, 4, 7, 6, 3, 9, 2, 9, 6, 6, 3, 4, 0, 7, 2, 0]))"
      ]
     },
     "execution_count": 8,
     "metadata": {},
     "output_type": "execute_result"
    }
   ],
   "source": [
    "train_features_batch, train_labels_batch = next(iter(train_dataloader))\n",
    "train_features_batch.shape, train_labels_batch"
   ]
  },
  {
   "attachments": {},
   "cell_type": "markdown",
   "metadata": {},
   "source": [
    "Turns out, the `DataLoader` class converts the torchvision dataset features into the shape of B x C x H x W."
   ]
  },
  {
   "attachments": {},
   "cell_type": "markdown",
   "metadata": {},
   "source": [
    "#### Build a Convoluational Neural Network.\n",
    "Here, we will attempt to make classification of images based on CNN layers. We will create multiple CNN blocks such that they can be stacked one after the other."
   ]
  },
  {
   "cell_type": "code",
   "execution_count": 9,
   "metadata": {},
   "outputs": [],
   "source": [
    "class FashionMNIST_CNN_classifier(torch.nn.Module):\n",
    "    \"\"\"\n",
    "    A torch model that looks similar to tiny VGGNet.\n",
    "    \"\"\"\n",
    "    def __init__(self, in_channels: int, hidden_units : int, output_shape : int):\n",
    "        super().__init__()\n",
    "        \n",
    "        self.conv_block_1 = torch.nn.Sequential(\n",
    "            torch.nn.Conv2d(in_channels=in_channels,\n",
    "                            out_channels=hidden_units,\n",
    "                            kernel_size=3,\n",
    "                            stride=1,\n",
    "                            padding=1),\n",
    "            torch.nn.LeakyReLU(),\n",
    "            torch.nn.Conv2d(in_channels=hidden_units,\n",
    "                            out_channels=hidden_units,\n",
    "                            kernel_size=3,\n",
    "                            stride=1,\n",
    "                            padding=1),\n",
    "            torch.nn.LeakyReLU(),\n",
    "            torch.nn.MaxPool2d(kernel_size=2)\n",
    "        )\n",
    "\n",
    "        self.conv_block_2 = torch.nn.Sequential(\n",
    "            torch.nn.Conv2d(in_channels=hidden_units,\n",
    "                            out_channels=hidden_units,\n",
    "                            kernel_size=3,\n",
    "                            stride=1,\n",
    "                            padding=1),\n",
    "            torch.nn.LeakyReLU(),\n",
    "            torch.nn.Conv2d(in_channels=hidden_units,\n",
    "                            out_channels=hidden_units,\n",
    "                            kernel_size=3,\n",
    "                            stride=1,\n",
    "                            padding=1),\n",
    "            torch.nn.LeakyReLU(),\n",
    "            torch.nn.MaxPool2d(kernel_size=2)\n",
    "        )\n",
    "\n",
    "        self.classifier_layer = torch.nn.Sequential(\n",
    "            torch.nn.Flatten(),\n",
    "            torch.nn.Linear(in_features=  10 * 7 * 7, # calculated by printing the output of the previous block\n",
    "                            out_features=output_shape)\n",
    "        )\n",
    "\n",
    "        \n",
    "\n",
    "    def forward(self, x : torch.Tensor) -> torch.Tensor:\n",
    "        return self.classifier_layer(self.conv_block_2(self.conv_block_1(x)))"
   ]
  },
  {
   "attachments": {},
   "cell_type": "markdown",
   "metadata": {},
   "source": [
    "#### Training\n",
    "Train the network using `DataLoader` object. The training loop algorithm looks as below:<br>\n",
    "- Loop through epochs.\n",
    "    - for training batch 0 to ...\n",
    "        - calculate `training_loss` for this batch using loss function.\n",
    "        - calculate gradients using `loss.backward()`.\n",
    "        - update parameters using `optimizer.step()`.\n",
    "    - for testing batch 0 to ...\n",
    "        - calculate `test_loss` for this batch.\n",
    "        "
   ]
  },
  {
   "cell_type": "code",
   "execution_count": 10,
   "metadata": {},
   "outputs": [],
   "source": [
    "from helper_functions import accuracy_fn\n",
    "from utils import print_training_time\n",
    "\n",
    "from tqdm import tqdm"
   ]
  },
  {
   "cell_type": "code",
   "execution_count": 11,
   "metadata": {},
   "outputs": [
    {
     "data": {
      "text/plain": [
       "938"
      ]
     },
     "execution_count": 11,
     "metadata": {},
     "output_type": "execute_result"
    }
   ],
   "source": [
    "len(train_dataloader)"
   ]
  },
  {
   "attachments": {},
   "cell_type": "markdown",
   "metadata": {},
   "source": [
    "Checking output format before training.\n"
   ]
  },
  {
   "cell_type": "code",
   "execution_count": 12,
   "metadata": {},
   "outputs": [
    {
     "data": {
      "text/plain": [
       "'cuda'"
      ]
     },
     "execution_count": 12,
     "metadata": {},
     "output_type": "execute_result"
    }
   ],
   "source": [
    "device = \"cuda\" if torch.cuda.is_available() else \"cpu\"\n",
    "device"
   ]
  },
  {
   "cell_type": "code",
   "execution_count": 13,
   "metadata": {},
   "outputs": [
    {
     "data": {
      "text/plain": [
       "torch.Size([64, 10])"
      ]
     },
     "execution_count": 13,
     "metadata": {},
     "output_type": "execute_result"
    }
   ],
   "source": [
    "# create a classifier.\n",
    "# shape of a FashionMNIST image is 28*28 and there are 10 different output labels.\n",
    "torch.manual_seed(42)\n",
    "torch.cuda.manual_seed(42)\n",
    "_classifier = FashionMNIST_CNN_classifier(in_channels = 1, hidden_units=10, output_shape=10)\n",
    "_classifier = _classifier.to(device=device)\n",
    "\n",
    "with torch.inference_mode():\n",
    "    _classifier.eval()\n",
    "    for batch_num, (X, y) in enumerate(train_dataloader):\n",
    "        # move the data to the respective device\n",
    "        X, y = X.to(device=device), y.to(device=device)\n",
    "        y_pred_batch = _classifier(X)\n",
    "        break\n",
    "# check the shape of the batch output\n",
    "y_pred_batch.shape"
   ]
  },
  {
   "attachments": {},
   "cell_type": "markdown",
   "metadata": {},
   "source": [
    "#### Training and Testing\n",
    "We use the modular versions of training and testing loops here."
   ]
  },
  {
   "cell_type": "code",
   "execution_count": 14,
   "metadata": {},
   "outputs": [
    {
     "data": {
      "text/plain": [
       "FashionMNIST_CNN_classifier(\n",
       "  (conv_block_1): Sequential(\n",
       "    (0): Conv2d(1, 10, kernel_size=(3, 3), stride=(1, 1), padding=(1, 1))\n",
       "    (1): LeakyReLU(negative_slope=0.01)\n",
       "    (2): Conv2d(10, 10, kernel_size=(3, 3), stride=(1, 1), padding=(1, 1))\n",
       "    (3): LeakyReLU(negative_slope=0.01)\n",
       "    (4): MaxPool2d(kernel_size=2, stride=2, padding=0, dilation=1, ceil_mode=False)\n",
       "  )\n",
       "  (conv_block_2): Sequential(\n",
       "    (0): Conv2d(10, 10, kernel_size=(3, 3), stride=(1, 1), padding=(1, 1))\n",
       "    (1): LeakyReLU(negative_slope=0.01)\n",
       "    (2): Conv2d(10, 10, kernel_size=(3, 3), stride=(1, 1), padding=(1, 1))\n",
       "    (3): LeakyReLU(negative_slope=0.01)\n",
       "    (4): MaxPool2d(kernel_size=2, stride=2, padding=0, dilation=1, ceil_mode=False)\n",
       "  )\n",
       "  (classifier_layer): Sequential(\n",
       "    (0): Flatten(start_dim=1, end_dim=-1)\n",
       "    (1): Linear(in_features=490, out_features=10, bias=True)\n",
       "  )\n",
       ")"
      ]
     },
     "execution_count": 14,
     "metadata": {},
     "output_type": "execute_result"
    }
   ],
   "source": [
    "# create a classifier.\n",
    "# shape of a FashionMNIST image is 28*28 and there are 10 different output labels.\n",
    "torch.manual_seed(42)\n",
    "torch.cuda.manual_seed(42)\n",
    "\n",
    "classifier = FashionMNIST_CNN_classifier(in_channels = 1, hidden_units=10, output_shape=10)\n",
    "classifier = classifier.to(device=device)\n",
    "classifier\n"
   ]
  },
  {
   "cell_type": "code",
   "execution_count": 15,
   "metadata": {},
   "outputs": [
    {
     "name": "stdout",
     "output_type": "stream",
     "text": [
      "\n",
      "*******Epoch  0 *******\n",
      "Avg tr loss/batch:  1.362 , Avg tr acc/batch:  51.019\n",
      "Avg test loss/batch: 0.749 , Average test acc/batch: 72.512\n",
      "Epoch training time: 12.85 seconds.\n",
      "\n",
      "*******Epoch  1 *******\n",
      "Avg tr loss/batch:  0.672 , Avg tr acc/batch:  75.68\n",
      "Avg test loss/batch: 0.686 , Average test acc/batch: 76.035\n",
      "Epoch training time: 13.237 seconds.\n",
      "\n",
      "*******Epoch  2 *******\n",
      "Avg tr loss/batch:  0.571 , Avg tr acc/batch:  79.261\n",
      "Avg test loss/batch: 0.577 , Average test acc/batch: 78.643\n",
      "Epoch training time: 11.35 seconds.\n",
      "\n",
      "*******Epoch  3 *******\n",
      "Avg tr loss/batch:  0.499 , Avg tr acc/batch:  82.09\n",
      "Avg test loss/batch: 0.487 , Average test acc/batch: 82.594\n",
      "Epoch training time: 11.541 seconds.\n",
      "\n",
      "*******Epoch  4 *******\n",
      "Avg tr loss/batch:  0.455 , Avg tr acc/batch:  83.807\n",
      "Avg test loss/batch: 0.463 , Average test acc/batch: 83.848\n",
      "Epoch training time: 11.291 seconds.\n",
      "\n",
      "*******Epoch  5 *******\n",
      "Avg tr loss/batch:  0.427 , Avg tr acc/batch:  84.67\n",
      "Avg test loss/batch: 0.49 , Average test acc/batch: 82.275\n",
      "Epoch training time: 12.291 seconds.\n",
      "\n",
      "*******Epoch  6 *******\n",
      "Avg tr loss/batch:  0.404 , Avg tr acc/batch:  85.523\n",
      "Avg test loss/batch: 0.414 , Average test acc/batch: 85.42\n",
      "Epoch training time: 11.483 seconds.\n",
      "\n",
      "*******Epoch  7 *******\n",
      "Avg tr loss/batch:  0.389 , Avg tr acc/batch:  86.104\n",
      "Avg test loss/batch: 0.423 , Average test acc/batch: 84.713\n",
      "Epoch training time: 11.446 seconds.\n",
      "\n",
      "*******Epoch  8 *******\n",
      "Avg tr loss/batch:  0.376 , Avg tr acc/batch:  86.472\n",
      "Avg test loss/batch: 0.41 , Average test acc/batch: 84.982\n",
      "Epoch training time: 12.707 seconds.\n",
      "\n",
      "*******Epoch  9 *******\n",
      "Avg tr loss/batch:  0.364 , Avg tr acc/batch:  86.96\n",
      "Avg test loss/batch: 0.408 , Average test acc/batch: 85.569\n",
      "Epoch training time: 12.714 seconds.\n",
      "\n",
      "*******Epoch  10 *******\n",
      "Avg tr loss/batch:  0.355 , Avg tr acc/batch:  87.282\n",
      "Avg test loss/batch: 0.386 , Average test acc/batch: 86.385\n",
      "Epoch training time: 13.897 seconds.\n",
      "\n",
      "*******Epoch  11 *******\n",
      "Avg tr loss/batch:  0.345 , Avg tr acc/batch:  87.655\n",
      "Avg test loss/batch: 0.373 , Average test acc/batch: 87.132\n",
      "Epoch training time: 14.001 seconds.\n",
      "\n",
      "*******Epoch  12 *******\n",
      "Avg tr loss/batch:  0.337 , Avg tr acc/batch:  87.846\n",
      "Avg test loss/batch: 0.392 , Average test acc/batch: 85.908\n",
      "Epoch training time: 14.049 seconds.\n",
      "\n",
      "*******Epoch  13 *******\n",
      "Avg tr loss/batch:  0.332 , Avg tr acc/batch:  88.121\n",
      "Avg test loss/batch: 0.379 , Average test acc/batch: 86.764\n",
      "Epoch training time: 13.661 seconds.\n",
      "\n",
      "*******Epoch  14 *******\n",
      "Avg tr loss/batch:  0.326 , Avg tr acc/batch:  88.413\n",
      "Avg test loss/batch: 0.349 , Average test acc/batch: 87.609\n",
      "Epoch training time: 13.665 seconds.\n",
      "\n",
      "*******Epoch  15 *******\n",
      "Avg tr loss/batch:  0.321 , Avg tr acc/batch:  88.454\n",
      "Avg test loss/batch: 0.364 , Average test acc/batch: 86.893\n",
      "Epoch training time: 13.929 seconds.\n",
      "\n",
      "*******Epoch  16 *******\n",
      "Avg tr loss/batch:  0.316 , Avg tr acc/batch:  88.724\n",
      "Avg test loss/batch: 0.356 , Average test acc/batch: 87.361\n",
      "Epoch training time: 13.334 seconds.\n",
      "\n",
      "*******Epoch  17 *******\n",
      "Avg tr loss/batch:  0.312 , Avg tr acc/batch:  88.876\n",
      "Avg test loss/batch: 0.359 , Average test acc/batch: 86.734\n",
      "Epoch training time: 13.306 seconds.\n",
      "\n",
      "*******Epoch  18 *******\n",
      "Avg tr loss/batch:  0.308 , Avg tr acc/batch:  88.908\n",
      "Avg test loss/batch: 0.347 , Average test acc/batch: 87.639\n",
      "Epoch training time: 13.448 seconds.\n",
      "\n",
      "*******Epoch  19 *******\n",
      "Avg tr loss/batch:  0.303 , Avg tr acc/batch:  89.146\n",
      "Avg test loss/batch: 0.341 , Average test acc/batch: 87.619\n",
      "Epoch training time: 14.519 seconds.\n",
      "\n",
      "*******Epoch  20 *******\n",
      "Avg tr loss/batch:  0.301 , Avg tr acc/batch:  89.184\n",
      "Avg test loss/batch: 0.332 , Average test acc/batch: 88.057\n",
      "Epoch training time: 14.392 seconds.\n",
      "\n",
      "*******Epoch  21 *******\n",
      "Avg tr loss/batch:  0.297 , Avg tr acc/batch:  89.379\n",
      "Avg test loss/batch: 0.344 , Average test acc/batch: 87.689\n",
      "Epoch training time: 14.126 seconds.\n",
      "\n",
      "*******Epoch  22 *******\n",
      "Avg tr loss/batch:  0.293 , Avg tr acc/batch:  89.476\n",
      "Avg test loss/batch: 0.332 , Average test acc/batch: 88.147\n",
      "Epoch training time: 13.635 seconds.\n",
      "\n",
      "*******Epoch  23 *******\n",
      "Avg tr loss/batch:  0.291 , Avg tr acc/batch:  89.517\n",
      "Avg test loss/batch: 0.359 , Average test acc/batch: 86.873\n",
      "Epoch training time: 13.91 seconds.\n",
      "\n",
      "*******Epoch  24 *******\n",
      "Avg tr loss/batch:  0.289 , Avg tr acc/batch:  89.557\n",
      "Avg test loss/batch: 0.325 , Average test acc/batch: 88.605\n",
      "Epoch training time: 13.274 seconds.\n",
      "\n",
      "*******Epoch  25 *******\n",
      "Avg tr loss/batch:  0.286 , Avg tr acc/batch:  89.73\n",
      "Avg test loss/batch: 0.339 , Average test acc/batch: 87.321\n",
      "Epoch training time: 13.591 seconds.\n",
      "\n",
      "*******Epoch  26 *******\n",
      "Avg tr loss/batch:  0.285 , Avg tr acc/batch:  89.807\n",
      "Avg test loss/batch: 0.316 , Average test acc/batch: 88.674\n",
      "Epoch training time: 13.312 seconds.\n",
      "\n",
      "*******Epoch  27 *******\n",
      "Avg tr loss/batch:  0.281 , Avg tr acc/batch:  89.782\n",
      "Avg test loss/batch: 0.335 , Average test acc/batch: 88.515\n",
      "Epoch training time: 13.342 seconds.\n",
      "\n",
      "*******Epoch  28 *******\n",
      "Avg tr loss/batch:  0.279 , Avg tr acc/batch:  89.917\n",
      "Avg test loss/batch: 0.347 , Average test acc/batch: 87.152\n",
      "Epoch training time: 15.068 seconds.\n",
      "\n",
      "*******Epoch  29 *******\n",
      "Avg tr loss/batch:  0.278 , Avg tr acc/batch:  90.06\n",
      "Avg test loss/batch: 0.324 , Average test acc/batch: 88.505\n",
      "Epoch training time: 14.006 seconds.\n",
      "\n",
      "Total training time:  397.37532270000156\n"
     ]
    }
   ],
   "source": [
    "loss_function = torch.nn.CrossEntropyLoss()\n",
    "optimizer = torch.optim.SGD(params= classifier.parameters(), lr= 0.01)\n",
    "\n",
    "# import modular training and test loops\n",
    "from utils import training_step\n",
    "from utils import test_step\n",
    "\n",
    "epochs = 30\n",
    "epochs_ctr = []\n",
    "avg_tr_loss_per_batch_list = []\n",
    "avg_tr_acc_per_batch_list = []\n",
    "avg_test_loss_per_batch_list = []\n",
    "avg_test_acc_per_batch_list = []\n",
    "\n",
    "total_training_time = 0.\n",
    "\n",
    "for epoch in range(0, epochs):\n",
    "    \n",
    "    epoch_training_time_start = timer()\n",
    "\n",
    "    print(\"\\n*******Epoch \", epoch, \"*******\")\n",
    "    epochs_ctr.append(epoch)\n",
    "    cumulative_training_loss_per_epoch = 0\n",
    "    cumulative_tr_acc_per_epoch = 0\n",
    "\n",
    "    ### modular training step ###\n",
    "    avg_tr_acc_per_batch, avg_tr_loss_per_batch = training_step(model=classifier,\n",
    "                                                                data_loader=train_dataloader,\n",
    "                                                                loss_function=loss_function,\n",
    "                                                                optimizer=optimizer,\n",
    "                                                                accuracy_func= accuracy_fn,\n",
    "                                                                device=device)\n",
    "\n",
    "    # store average loss and accuracy for plot\n",
    "    avg_tr_acc_per_batch_list.append(avg_tr_acc_per_batch)\n",
    "    avg_tr_loss_per_batch_list.append(avg_tr_loss_per_batch)\n",
    "\n",
    "    ### modular test loop ###\n",
    "    avg_test_acc_per_batch, avg_test_loss_per_batch = test_step(model=classifier,\n",
    "                                                                data_loader=test_dataloader,\n",
    "                                                                loss_function=loss_function,\n",
    "                                                                accuracy_func=accuracy_fn,\n",
    "                                                                device=device)\n",
    "          \n",
    "    # store average loss and accuracy for plot\n",
    "    avg_test_loss_per_batch_list.append(avg_test_loss_per_batch)\n",
    "    avg_test_acc_per_batch_list.append(avg_test_acc_per_batch)\n",
    "\n",
    "    \n",
    "    # calculate epoch training time\n",
    "    epoch_training_end_time = timer()\n",
    "    epoch_training_time = print_training_time(start=epoch_training_time_start, end=epoch_training_end_time, device=str(next(classifier.parameters())))\n",
    "    total_training_time += epoch_training_time\n",
    "\n",
    "# print total training time\n",
    "print(\"\\nTotal training time: \", total_training_time)"
   ]
  },
  {
   "attachments": {},
   "cell_type": "markdown",
   "metadata": {},
   "source": [
    "#### Evaluate the trained model."
   ]
  },
  {
   "cell_type": "code",
   "execution_count": 16,
   "metadata": {},
   "outputs": [
    {
     "data": {
      "text/plain": [
       "{'model_name': 'FashionMNIST_CNN_classifier',\n",
       " 'model_loss': 0.3248606026172638,\n",
       " 'model_acc': 88.47531847133757}"
      ]
     },
     "execution_count": 16,
     "metadata": {},
     "output_type": "execute_result"
    }
   ],
   "source": [
    "from utils import eval_model\n",
    "eval_model(model=classifier.to(\"cpu\"),\n",
    "           data_loader=test_dataloader,\n",
    "           loss_fn=loss_function,\n",
    "           accuracy_fn=accuracy_fn)"
   ]
  },
  {
   "attachments": {},
   "cell_type": "markdown",
   "metadata": {},
   "source": [
    "As seen above, the CNN-based network has surpassed the performance of the previous FCN-based model, reaching beyond 86% test accuracy at one point."
   ]
  },
  {
   "cell_type": "code",
   "execution_count": 17,
   "metadata": {},
   "outputs": [
    {
     "data": {
      "image/png": "[encoded data removed]",
      "text/plain": [
       "<Figure size 1200x600 with 2 Axes>"
      ]
     },
     "metadata": {},
     "output_type": "display_data"
    }
   ],
   "source": [
    "plt.figure(figsize=(12,6))\n",
    "\n",
    "# subplot 1\n",
    "plt.subplot(1,2,1) \n",
    "plt.title(\"Loss\")\n",
    "plt.plot(epochs_ctr, avg_tr_loss_per_batch_list, \"g\", label = \"Training Loss\")\n",
    "plt.plot(epochs_ctr, avg_test_loss_per_batch_list, \"r\", label = \"Test Loss\")\n",
    "plt.title(\"Training and Test Loss Curves\")\n",
    "plt.xlabel(\"Epochs\")\n",
    "plt.ylabel(\"Loss\")\n",
    "\n",
    "# subplot 2\n",
    "plt.subplot(1,2,2)\n",
    "plt.title(\"Test\")\n",
    "plt.title(\"Accuracy\")\n",
    "plt.plot(epochs_ctr, avg_tr_acc_per_batch_list, \"g\", label = \"Training Accuracy\")\n",
    "plt.plot(epochs_ctr, avg_test_acc_per_batch_list, \"r\", label = \"Test Accuracy\")\n",
    "plt.title(\"Training and Test Accuracy Curves\")\n",
    "plt.xlabel(\"Epochs\")\n",
    "plt.ylabel(\"Accuray\")\n",
    "\n",
    "plt.legend()\n",
    "plt.show()"
   ]
  },
  {
   "attachments": {},
   "cell_type": "markdown",
   "metadata": {},
   "source": [
    "As seen above, our CNN-based model has beaten the test acccuracy of the previous FCN-based model."
   ]
  },
  {
   "attachments": {},
   "cell_type": "markdown",
   "metadata": {},
   "source": [
    "Let's visualize the predictions."
   ]
  },
  {
   "cell_type": "markdown",
   "metadata": {},
   "source": []
  }
 ],
 "metadata": {
  "kernelspec": {
   "display_name": ".venv",
   "language": "python",
   "name": "python3"
  },
  "language_info": {
   "codemirror_mode": {
    "name": "ipython",
    "version": 3
   },
   "file_extension": ".py",
   "mimetype": "text/x-python",
   "name": "python",
   "nbconvert_exporter": "python",
   "pygments_lexer": "ipython3",
   "version": "3.10.11"
  },
  "orig_nbformat": 4
 },
 "nbformat": 4,
 "nbformat_minor": 2
}
