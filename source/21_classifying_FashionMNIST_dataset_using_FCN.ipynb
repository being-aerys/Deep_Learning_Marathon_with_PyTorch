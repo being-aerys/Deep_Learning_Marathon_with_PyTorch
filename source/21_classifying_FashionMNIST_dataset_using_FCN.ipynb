{
 "cells": [
  {
   "cell_type": "code",
   "execution_count": 1,
   "metadata": {},
   "outputs": [
    {
     "data": {
      "text/plain": [
       "('2.0.0+cu118', '0.15.1+cu118')"
      ]
     },
     "execution_count": 1,
     "metadata": {},
     "output_type": "execute_result"
    }
   ],
   "source": [
    "import torch, torchvision\n",
    "torch.__version__, torchvision.__version__"
   ]
  },
  {
   "cell_type": "code",
   "execution_count": 2,
   "metadata": {},
   "outputs": [],
   "source": [
    "from torchvision import datasets\n",
    "from torchvision import transforms\n",
    "from torchvision.transforms import ToTensor\n",
    "\n",
    "import matplotlib.pyplot as plt"
   ]
  },
  {
   "cell_type": "code",
   "execution_count": 3,
   "metadata": {},
   "outputs": [],
   "source": [
    "from timeit import default_timer as timer"
   ]
  },
  {
   "attachments": {},
   "cell_type": "markdown",
   "metadata": {},
   "source": [
    "#### Getting torchvision dataset\n",
    "`torchvision` provides some datasets that we can import to train our models. Here, we will use FashionMNIST dataset for demonstration. The returned variable is of type `Dataset` and has both features and the label of the sample at each index of the dataset."
   ]
  },
  {
   "cell_type": "code",
   "execution_count": 4,
   "metadata": {},
   "outputs": [],
   "source": [
    "train_data = torchvision.datasets.FashionMNIST(root=\"data\",\n",
    "                                               train=True, # download only training dataset\n",
    "                                               download=True,\n",
    "                                               transform=torchvision.transforms.ToTensor(),\n",
    "                                               target_transform=None)\n",
    "\n",
    "test_data = torchvision.datasets.FashionMNIST(root=\"data\",\n",
    "                                               train=False, # download only test dataset\n",
    "                                               download=True,\n",
    "                                               transform=torchvision.transforms.ToTensor(),\n",
    "                                               target_transform=None)"
   ]
  },
  {
   "cell_type": "code",
   "execution_count": 5,
   "metadata": {},
   "outputs": [
    {
     "data": {
      "text/plain": [
       "(torch.Size([1, 28, 28]), 9)"
      ]
     },
     "execution_count": 5,
     "metadata": {},
     "output_type": "execute_result"
    }
   ],
   "source": [
    "first_image, first_targe_label = train_data[0]\n",
    "first_image.shape, first_targe_label"
   ]
  },
  {
   "cell_type": "code",
   "execution_count": 6,
   "metadata": {},
   "outputs": [
    {
     "data": {
      "text/plain": [
       "(<torch.utils.data.dataloader.DataLoader at 0x1ed919a3820>,\n",
       " <torch.utils.data.dataloader.DataLoader at 0x1ed919a3850>)"
      ]
     },
     "execution_count": 6,
     "metadata": {},
     "output_type": "execute_result"
    }
   ],
   "source": [
    "from torch.utils.data import DataLoader\n",
    "\n",
    "BATCH_SIZE = 64\n",
    "\n",
    "train_dataloader = DataLoader(dataset=train_data,\n",
    "                              batch_size=BATCH_SIZE,\n",
    "                              shuffle=True)\n",
    "\n",
    "test_dataloader = DataLoader(dataset=test_data,\n",
    "                              batch_size=BATCH_SIZE,\n",
    "                              shuffle=True)\n",
    "train_dataloader, test_dataloader"
   ]
  },
  {
   "attachments": {},
   "cell_type": "markdown",
   "metadata": {},
   "source": [
    "Let's see how to interact with the dataloader. As mentioned before, `DataLoader` turns our dataset into a Python iterable."
   ]
  },
  {
   "cell_type": "code",
   "execution_count": 7,
   "metadata": {},
   "outputs": [
    {
     "data": {
      "text/plain": [
       "(938, 157)"
      ]
     },
     "execution_count": 7,
     "metadata": {},
     "output_type": "execute_result"
    }
   ],
   "source": [
    "len(train_dataloader), len(test_dataloader)"
   ]
  },
  {
   "cell_type": "code",
   "execution_count": 8,
   "metadata": {},
   "outputs": [
    {
     "data": {
      "text/plain": [
       "(torch.Size([64, 1, 28, 28]),\n",
       " tensor([7, 5, 2, 7, 4, 0, 9, 0, 3, 2, 5, 0, 7, 5, 2, 9, 1, 6, 6, 7, 6, 4, 9, 3,\n",
       "         8, 0, 8, 5, 2, 6, 8, 8, 3, 3, 3, 1, 3, 3, 4, 5, 0, 8, 4, 8, 0, 8, 0, 9,\n",
       "         1, 7, 5, 0, 7, 8, 2, 0, 2, 3, 1, 8, 7, 1, 9, 1]))"
      ]
     },
     "execution_count": 8,
     "metadata": {},
     "output_type": "execute_result"
    }
   ],
   "source": [
    "train_features_batch, train_labels_batch = next(iter(train_dataloader))\n",
    "train_features_batch.shape, train_labels_batch"
   ]
  },
  {
   "attachments": {},
   "cell_type": "markdown",
   "metadata": {},
   "source": [
    "Turns out, the `DataLoader` class converts the torchvision dataset features into the shape of B x C x H x W."
   ]
  },
  {
   "attachments": {},
   "cell_type": "markdown",
   "metadata": {},
   "source": [
    "#### Build a fully-connected network.\n",
    "Here, we will attempt to make classification of images based on fully-connected layers only. Also note, that we have not added non-linear activation functions here."
   ]
  },
  {
   "cell_type": "code",
   "execution_count": 9,
   "metadata": {},
   "outputs": [],
   "source": [
    "class FashionMNIST_classifier(torch.nn.Module):\n",
    "\n",
    "    def __init__(self, input_shape: int, hidden_units : int, output_shape : int):\n",
    "        super().__init__()\n",
    "        self.seq_layer_stack = torch.nn.Sequential(\n",
    "            torch.nn.Flatten(),\n",
    "            torch.nn.Linear(in_features=input_shape, out_features=hidden_units),\n",
    "            torch.nn.Linear(in_features=hidden_units, out_features=output_shape)\n",
    "        )\n",
    "    \n",
    "    def forward(self, x : torch.Tensor) -> torch.Tensor:\n",
    "        return self.seq_layer_stack(x)\n"
   ]
  },
  {
   "attachments": {},
   "cell_type": "markdown",
   "metadata": {},
   "source": [
    "#### Training\n",
    "Train the network using `DataLoader` object. The training loop algorithm looks as below:<br>\n",
    "- Loop through epochs.\n",
    "    - for training batch 0 to ...\n",
    "        - calculate `training_loss` for this batch using loss function.\n",
    "        - calculate gradients using `loss.backward()`.\n",
    "        - update parameters using `optimizer.step()`.\n",
    "    - for testing batch 0 to ...\n",
    "        - calculate `test_loss` for this batch.\n",
    "        "
   ]
  },
  {
   "cell_type": "code",
   "execution_count": 10,
   "metadata": {},
   "outputs": [],
   "source": [
    "from helper_functions import accuracy_fn\n",
    "\n",
    "from tqdm import tqdm\n",
    "\n",
    "\n",
    "\n",
    "from utils import print_training_time"
   ]
  },
  {
   "cell_type": "code",
   "execution_count": 11,
   "metadata": {},
   "outputs": [
    {
     "data": {
      "text/plain": [
       "938"
      ]
     },
     "execution_count": 11,
     "metadata": {},
     "output_type": "execute_result"
    }
   ],
   "source": [
    "len(train_dataloader)"
   ]
  },
  {
   "attachments": {},
   "cell_type": "markdown",
   "metadata": {},
   "source": [
    "Checking output format before training.\n"
   ]
  },
  {
   "cell_type": "code",
   "execution_count": 12,
   "metadata": {},
   "outputs": [
    {
     "data": {
      "text/plain": [
       "torch.Size([64, 10])"
      ]
     },
     "execution_count": 12,
     "metadata": {},
     "output_type": "execute_result"
    }
   ],
   "source": [
    "# create a classifier.\n",
    "# shape of a FashionMNIST image is 28*28 and there are 10 different output labels.\n",
    "torch.manual_seed(42)\n",
    "_classifier = FashionMNIST_classifier(input_shape=28*28, hidden_units=10, output_shape=10)\n",
    "_classifier = _classifier.to(device=\"cpu\")\n",
    "\n",
    "with torch.inference_mode():\n",
    "    for batch_num, (X, y) in enumerate(train_dataloader):\n",
    "        y_pred_batch = _classifier(X)\n",
    "        break\n",
    "# check the shape of the batch output\n",
    "y_pred_batch.shape"
   ]
  },
  {
   "cell_type": "code",
   "execution_count": 13,
   "metadata": {},
   "outputs": [
    {
     "name": "stderr",
     "output_type": "stream",
     "text": [
      "  0%|          | 0/5 [00:00<?, ?it/s]"
     ]
    },
    {
     "name": "stdout",
     "output_type": "stream",
     "text": [
      "\n",
      "Epoch  0\n"
     ]
    },
    {
     "name": "stderr",
     "output_type": "stream",
     "text": [
      " 20%|██        | 1/5 [00:10<00:40, 10.08s/it]"
     ]
    },
    {
     "name": "stdout",
     "output_type": "stream",
     "text": [
      "Avg tr loss/ batch: 0.632 Avg training acc/batch: 78.078 Avg test loss/batch: 0.583 Average test acc/batch: 78.971\n",
      "Epoch training time: 10.081 seconds.\n",
      "\n",
      "Epoch  1\n"
     ]
    },
    {
     "name": "stderr",
     "output_type": "stream",
     "text": [
      " 40%|████      | 2/5 [00:21<00:33, 11.07s/it]"
     ]
    },
    {
     "name": "stdout",
     "output_type": "stream",
     "text": [
      "Avg tr loss/ batch: 0.482 Avg training acc/batch: 82.974 Avg test loss/batch: 0.57 Average test acc/batch: 80.623\n",
      "Epoch training time: 11.757 seconds.\n",
      "\n",
      "Epoch  2\n"
     ]
    },
    {
     "name": "stderr",
     "output_type": "stream",
     "text": [
      " 60%|██████    | 3/5 [00:33<00:22, 11.12s/it]"
     ]
    },
    {
     "name": "stdout",
     "output_type": "stream",
     "text": [
      "Avg tr loss/ batch: 0.456 Avg training acc/batch: 84.014 Avg test loss/batch: 0.471 Average test acc/batch: 83.191\n",
      "Epoch training time: 11.173 seconds.\n",
      "\n",
      "Epoch  3\n"
     ]
    },
    {
     "name": "stderr",
     "output_type": "stream",
     "text": [
      " 80%|████████  | 4/5 [00:44<00:11, 11.14s/it]"
     ]
    },
    {
     "name": "stdout",
     "output_type": "stream",
     "text": [
      "Avg tr loss/ batch: 0.443 Avg training acc/batch: 84.533 Avg test loss/batch: 0.465 Average test acc/batch: 83.499\n",
      "Epoch training time: 11.166 seconds.\n",
      "\n",
      "Epoch  4\n"
     ]
    },
    {
     "name": "stderr",
     "output_type": "stream",
     "text": [
      "100%|██████████| 5/5 [00:59<00:00, 11.97s/it]"
     ]
    },
    {
     "name": "stdout",
     "output_type": "stream",
     "text": [
      "Avg tr loss/ batch: 0.435 Avg training acc/batch: 84.845 Avg test loss/batch: 0.473 Average test acc/batch: 82.952\n",
      "Epoch training time: 15.665 seconds.\n"
     ]
    },
    {
     "name": "stderr",
     "output_type": "stream",
     "text": [
      "\n"
     ]
    }
   ],
   "source": [
    "# create a classifier.\n",
    "# shape of a FashionMNIST image is 28*28 and there are 10 different output labels.\n",
    "torch.manual_seed(42)\n",
    "classifier = FashionMNIST_classifier(input_shape=28*28, hidden_units=10, output_shape=10)\n",
    "classifier = classifier.to(device=\"cpu\")\n",
    "\n",
    "loss_function = torch.nn.CrossEntropyLoss()\n",
    "optimizer = torch.optim.SGD(params= classifier.parameters(), lr= 0.1)\n",
    "\n",
    "epochs = 5\n",
    "epochs_ctr = []\n",
    "avg_tr_loss_per_batch_list = []\n",
    "avg_tr_acc_per_batch_list = []\n",
    "avg_test_loss_per_batch_list = []\n",
    "avg_test_acc_per_batch_list = []\n",
    "\n",
    "\n",
    "\n",
    "for epoch in tqdm(range(0, epochs)):\n",
    "    \n",
    "    epoch_training_time_start = timer()\n",
    "\n",
    "    print(\"\\nEpoch \", epoch)\n",
    "    epochs_ctr.append(epoch)\n",
    "    cumulative_training_loss_per_epoch = 0\n",
    "    cumulative_tr_acc_per_epoch = 0\n",
    "\n",
    "    # training\n",
    "    classifier.train()\n",
    "    for batch_num, (X, y) in enumerate(train_dataloader):\n",
    "        \n",
    "        y_pred_batch = classifier(X)\n",
    "\n",
    "        batch_loss = loss_function(y_pred_batch, y)\n",
    "        tr_acc = accuracy_fn(y, y_pred_batch.argmax(dim = 1))\n",
    "        cumulative_tr_acc_per_epoch += tr_acc\n",
    "        \n",
    "        # accumulate training loss for an epoch for plotting purpose\n",
    "        # ensure to detach the variable value from the computation graph\n",
    "        cumulative_training_loss_per_epoch += batch_loss.item()\n",
    "\n",
    "        # wipe out garbage gradients accumulated\n",
    "        optimizer.zero_grad()\n",
    "\n",
    "        # backpropagation to calculate gradients\n",
    "        batch_loss.backward()\n",
    "\n",
    "        # optimizer the model parameters once per batch\n",
    "        optimizer.step()\n",
    "      \n",
    "    \n",
    "    # average training loss per batch\n",
    "    avg_tr_loss_per_batch = cumulative_training_loss_per_epoch/len(train_dataloader)\n",
    "    avg_tr_acc_per_batch = cumulative_tr_acc_per_epoch/len(train_dataloader)\n",
    "\n",
    "\n",
    "\n",
    "    # store average loss and accuracy for plot\n",
    "    avg_tr_loss_per_batch_list.append(avg_tr_loss_per_batch)\n",
    "    avg_tr_acc_per_batch_list.append(avg_tr_acc_per_batch)\n",
    "\n",
    "    \n",
    "\n",
    "    # testing\n",
    "    classifier.eval()\n",
    "    with torch.inference_mode():\n",
    "\n",
    "        cumulative_test_loss_per_epoch = 0\n",
    "        cumulative_test_acc_per_epoch = 0\n",
    "\n",
    "        for batch_num, (X,y) in enumerate(test_dataloader):\n",
    "\n",
    "            test_preds = classifier(X)\n",
    "            test_loss = loss_function(test_preds, y)\n",
    "            cumulative_test_loss_per_epoch += test_loss.item()\n",
    "\n",
    "            test_acc = accuracy_fn(y, test_preds.argmax(dim = 1))\n",
    "            cumulative_test_acc_per_epoch += test_acc\n",
    "        \n",
    "        # calculate average test loss and test accuracy per batch\n",
    "        avg_test_loss_per_batch = cumulative_test_loss_per_epoch/len(test_dataloader)\n",
    "        avg_test_acc_per_batch = cumulative_test_acc_per_epoch/len(test_dataloader)\n",
    "        \n",
    "        # store average loss and accuracy for plot\n",
    "        avg_test_loss_per_batch_list.append(avg_test_loss_per_batch)\n",
    "        avg_test_acc_per_batch_list.append(avg_test_acc_per_batch)\n",
    "\n",
    "    # print each epoch\n",
    "    print(\"Avg tr loss/ batch:\", round(avg_tr_loss_per_batch, 3), \"Avg training acc/batch:\", round(avg_tr_acc_per_batch, 3),\\\n",
    "           \"Avg test loss/batch:\", round(avg_test_loss_per_batch,3),\"Average test acc/batch:\", round(avg_test_acc_per_batch,3))\n",
    "\n",
    "    # calculate epoch training time\n",
    "    epoch_training_end_time = timer()\n",
    "    total_training_time = print_training_time(start=epoch_training_time_start, end=epoch_training_end_time, device=str(next(classifier.parameters())))\n"
   ]
  },
  {
   "cell_type": "code",
   "execution_count": 14,
   "metadata": {},
   "outputs": [
    {
     "data": {
      "image/png": "[encoded data removed]",
      "text/plain": [
       "<Figure size 1200x600 with 2 Axes>"
      ]
     },
     "metadata": {},
     "output_type": "display_data"
    }
   ],
   "source": [
    "plt.figure(figsize=(12,6))\n",
    "\n",
    "# subplot 1\n",
    "plt.subplot(1,2,1) \n",
    "plt.title(\"Loss\")\n",
    "plt.plot(epochs_ctr, avg_tr_loss_per_batch_list, \"g\", label = \"Training Loss\")\n",
    "plt.plot(epochs_ctr, avg_test_loss_per_batch_list, \"r\", label = \"Test Loss\")\n",
    "plt.title(\"Training and Test Loss Curves\")\n",
    "plt.xlabel(\"Epochs\")\n",
    "plt.ylabel(\"Loss\")\n",
    "\n",
    "# subplot 2\n",
    "plt.subplot(1,2,2)\n",
    "plt.title(\"Test\")\n",
    "plt.title(\"Accuracy\")\n",
    "plt.plot(epochs_ctr, avg_tr_acc_per_batch_list, \"g\", label = \"Training Accuracy\")\n",
    "plt.plot(epochs_ctr, avg_test_acc_per_batch_list, \"r\", label = \"Test Accuracy\")\n",
    "plt.title(\"Training and Test Accuracy Curves\")\n",
    "plt.xlabel(\"Epochs\")\n",
    "plt.ylabel(\"Accuray\")\n",
    "\n",
    "plt.legend()\n",
    "plt.show()"
   ]
  },
  {
   "attachments": {},
   "cell_type": "markdown",
   "metadata": {},
   "source": [
    "As seen above, with the learning rate 0.1, the performance flattens pretty quick. The final performance is nowhere near perfect. It would be interesting to see if the performance would get better with a smaller learning rate and a more number of epochs."
   ]
  },
  {
   "cell_type": "code",
   "execution_count": 15,
   "metadata": {},
   "outputs": [
    {
     "name": "stderr",
     "output_type": "stream",
     "text": [
      "  0%|          | 0/20 [00:00<?, ?it/s]"
     ]
    },
    {
     "name": "stdout",
     "output_type": "stream",
     "text": [
      "\n",
      "Epoch  0\n"
     ]
    },
    {
     "name": "stderr",
     "output_type": "stream",
     "text": [
      "  5%|▌         | 1/20 [00:12<03:58, 12.55s/it]"
     ]
    },
    {
     "name": "stdout",
     "output_type": "stream",
     "text": [
      "Avg tr loss/ batch: 1.475 Avg training acc/batch: 57.086 Avg test loss/batch: 0.958 Average test acc/batch: 68.332\n",
      "Epoch training time: 12.549 seconds.\n",
      "\n",
      "Epoch  1\n"
     ]
    },
    {
     "name": "stderr",
     "output_type": "stream",
     "text": [
      " 10%|█         | 2/20 [00:25<03:52, 12.90s/it]"
     ]
    },
    {
     "name": "stdout",
     "output_type": "stream",
     "text": [
      "Avg tr loss/ batch: 0.82 Avg training acc/batch: 72.776 Avg test loss/batch: 0.759 Average test acc/batch: 73.955\n",
      "Epoch training time: 13.143 seconds.\n",
      "\n",
      "Epoch  2\n"
     ]
    },
    {
     "name": "stderr",
     "output_type": "stream",
     "text": [
      " 15%|█▌        | 3/20 [00:39<03:48, 13.42s/it]"
     ]
    },
    {
     "name": "stdout",
     "output_type": "stream",
     "text": [
      "Avg tr loss/ batch: 0.692 Avg training acc/batch: 76.714 Avg test loss/batch: 0.675 Average test acc/batch: 76.851\n",
      "Epoch training time: 14.031 seconds.\n",
      "\n",
      "Epoch  3\n"
     ]
    },
    {
     "name": "stderr",
     "output_type": "stream",
     "text": [
      " 20%|██        | 4/20 [00:53<03:37, 13.57s/it]"
     ]
    },
    {
     "name": "stdout",
     "output_type": "stream",
     "text": [
      "Avg tr loss/ batch: 0.627 Avg training acc/batch: 79.003 Avg test loss/batch: 0.628 Average test acc/batch: 78.404\n",
      "Epoch training time: 13.812 seconds.\n",
      "\n",
      "Epoch  4\n"
     ]
    },
    {
     "name": "stderr",
     "output_type": "stream",
     "text": [
      " 25%|██▌       | 5/20 [01:07<03:23, 13.57s/it]"
     ]
    },
    {
     "name": "stdout",
     "output_type": "stream",
     "text": [
      "Avg tr loss/ batch: 0.586 Avg training acc/batch: 80.319 Avg test loss/batch: 0.595 Average test acc/batch: 79.598\n",
      "Epoch training time: 13.55 seconds.\n",
      "\n",
      "Epoch  5\n"
     ]
    },
    {
     "name": "stderr",
     "output_type": "stream",
     "text": [
      " 30%|███       | 6/20 [01:20<03:09, 13.56s/it]"
     ]
    },
    {
     "name": "stdout",
     "output_type": "stream",
     "text": [
      "Avg tr loss/ batch: 0.558 Avg training acc/batch: 81.247 Avg test loss/batch: 0.571 Average test acc/batch: 80.583\n",
      "Epoch training time: 13.558 seconds.\n",
      "\n",
      "Epoch  6\n"
     ]
    },
    {
     "name": "stderr",
     "output_type": "stream",
     "text": [
      " 35%|███▌      | 7/20 [01:34<02:58, 13.76s/it]"
     ]
    },
    {
     "name": "stdout",
     "output_type": "stream",
     "text": [
      "Avg tr loss/ batch: 0.537 Avg training acc/batch: 81.898 Avg test loss/batch: 0.552 Average test acc/batch: 81.16\n",
      "Epoch training time: 14.166 seconds.\n",
      "\n",
      "Epoch  7\n"
     ]
    },
    {
     "name": "stderr",
     "output_type": "stream",
     "text": [
      " 40%|████      | 8/20 [01:48<02:46, 13.84s/it]"
     ]
    },
    {
     "name": "stdout",
     "output_type": "stream",
     "text": [
      "Avg tr loss/ batch: 0.521 Avg training acc/batch: 82.294 Avg test loss/batch: 0.543 Average test acc/batch: 81.369\n",
      "Epoch training time: 14.009 seconds.\n",
      "\n",
      "Epoch  8\n"
     ]
    },
    {
     "name": "stderr",
     "output_type": "stream",
     "text": [
      " 45%|████▌     | 9/20 [02:02<02:30, 13.69s/it]"
     ]
    },
    {
     "name": "stdout",
     "output_type": "stream",
     "text": [
      "Avg tr loss/ batch: 0.509 Avg training acc/batch: 82.691 Avg test loss/batch: 0.532 Average test acc/batch: 81.568\n",
      "Epoch training time: 13.358 seconds.\n",
      "\n",
      "Epoch  9\n"
     ]
    },
    {
     "name": "stderr",
     "output_type": "stream",
     "text": [
      " 50%|█████     | 10/20 [02:15<02:16, 13.63s/it]"
     ]
    },
    {
     "name": "stdout",
     "output_type": "stream",
     "text": [
      "Avg tr loss/ batch: 0.499 Avg training acc/batch: 82.942 Avg test loss/batch: 0.52 Average test acc/batch: 81.996\n",
      "Epoch training time: 13.48 seconds.\n",
      "\n",
      "Epoch  10\n"
     ]
    },
    {
     "name": "stderr",
     "output_type": "stream",
     "text": [
      " 55%|█████▌    | 11/20 [02:29<02:02, 13.58s/it]"
     ]
    },
    {
     "name": "stdout",
     "output_type": "stream",
     "text": [
      "Avg tr loss/ batch: 0.49 Avg training acc/batch: 83.212 Avg test loss/batch: 0.517 Average test acc/batch: 81.947\n",
      "Epoch training time: 13.471 seconds.\n",
      "\n",
      "Epoch  11\n"
     ]
    },
    {
     "name": "stderr",
     "output_type": "stream",
     "text": [
      " 60%|██████    | 12/20 [02:43<01:50, 13.84s/it]"
     ]
    },
    {
     "name": "stdout",
     "output_type": "stream",
     "text": [
      "Avg tr loss/ batch: 0.482 Avg training acc/batch: 83.394 Avg test loss/batch: 0.51 Average test acc/batch: 82.136\n",
      "Epoch training time: 14.447 seconds.\n",
      "\n",
      "Epoch  12\n"
     ]
    },
    {
     "name": "stderr",
     "output_type": "stream",
     "text": [
      " 65%|██████▌   | 13/20 [02:56<01:35, 13.70s/it]"
     ]
    },
    {
     "name": "stdout",
     "output_type": "stream",
     "text": [
      "Avg tr loss/ batch: 0.476 Avg training acc/batch: 83.575 Avg test loss/batch: 0.504 Average test acc/batch: 82.265\n",
      "Epoch training time: 13.364 seconds.\n",
      "\n",
      "Epoch  13\n"
     ]
    },
    {
     "name": "stderr",
     "output_type": "stream",
     "text": [
      " 70%|███████   | 14/20 [03:10<01:21, 13.65s/it]"
     ]
    },
    {
     "name": "stdout",
     "output_type": "stream",
     "text": [
      "Avg tr loss/ batch: 0.471 Avg training acc/batch: 83.794 Avg test loss/batch: 0.499 Average test acc/batch: 82.335\n",
      "Epoch training time: 13.527 seconds.\n",
      "\n",
      "Epoch  14\n"
     ]
    },
    {
     "name": "stderr",
     "output_type": "stream",
     "text": [
      " 75%|███████▌  | 15/20 [03:24<01:08, 13.71s/it]"
     ]
    },
    {
     "name": "stdout",
     "output_type": "stream",
     "text": [
      "Avg tr loss/ batch: 0.466 Avg training acc/batch: 83.994 Avg test loss/batch: 0.494 Average test acc/batch: 82.952\n",
      "Epoch training time: 13.836 seconds.\n",
      "\n",
      "Epoch  15\n"
     ]
    },
    {
     "name": "stderr",
     "output_type": "stream",
     "text": [
      " 80%|████████  | 16/20 [03:41<00:58, 14.60s/it]"
     ]
    },
    {
     "name": "stdout",
     "output_type": "stream",
     "text": [
      "Avg tr loss/ batch: 0.461 Avg training acc/batch: 84.14 Avg test loss/batch: 0.493 Average test acc/batch: 82.773\n",
      "Epoch training time: 16.689 seconds.\n",
      "\n",
      "Epoch  16\n"
     ]
    },
    {
     "name": "stderr",
     "output_type": "stream",
     "text": [
      " 85%|████████▌ | 17/20 [03:54<00:42, 14.33s/it]"
     ]
    },
    {
     "name": "stdout",
     "output_type": "stream",
     "text": [
      "Avg tr loss/ batch: 0.457 Avg training acc/batch: 84.248 Avg test loss/batch: 0.491 Average test acc/batch: 82.912\n",
      "Epoch training time: 13.679 seconds.\n",
      "\n",
      "Epoch  17\n"
     ]
    },
    {
     "name": "stderr",
     "output_type": "stream",
     "text": [
      " 90%|█████████ | 18/20 [04:11<00:30, 15.21s/it]"
     ]
    },
    {
     "name": "stdout",
     "output_type": "stream",
     "text": [
      "Avg tr loss/ batch: 0.454 Avg training acc/batch: 84.4 Avg test loss/batch: 0.484 Average test acc/batch: 83.081\n",
      "Epoch training time: 17.277 seconds.\n",
      "\n",
      "Epoch  18\n"
     ]
    },
    {
     "name": "stderr",
     "output_type": "stream",
     "text": [
      " 95%|█████████▌| 19/20 [04:29<00:15, 15.83s/it]"
     ]
    },
    {
     "name": "stdout",
     "output_type": "stream",
     "text": [
      "Avg tr loss/ batch: 0.45 Avg training acc/batch: 84.493 Avg test loss/batch: 0.489 Average test acc/batch: 82.494\n",
      "Epoch training time: 17.253 seconds.\n",
      "\n",
      "Epoch  19\n"
     ]
    },
    {
     "name": "stderr",
     "output_type": "stream",
     "text": [
      "100%|██████████| 20/20 [04:45<00:00, 14.26s/it]"
     ]
    },
    {
     "name": "stdout",
     "output_type": "stream",
     "text": [
      "Avg tr loss/ batch: 0.447 Avg training acc/batch: 84.567 Avg test loss/batch: 0.476 Average test acc/batch: 83.26\n",
      "Epoch training time: 16.036 seconds.\n"
     ]
    },
    {
     "name": "stderr",
     "output_type": "stream",
     "text": [
      "\n"
     ]
    }
   ],
   "source": [
    "# create a classifier.\n",
    "# shape of a FashionMNIST image is 28*28 and there are 10 different output labels.\n",
    "torch.manual_seed(42)\n",
    "classifier = FashionMNIST_classifier(input_shape=28*28, hidden_units=10, output_shape=10)\n",
    "classifier = classifier.to(device=\"cpu\")\n",
    "\n",
    "loss_function = torch.nn.CrossEntropyLoss()\n",
    "optimizer = torch.optim.SGD(params= classifier.parameters(), lr= 0.005)\n",
    "\n",
    "epochs = 20\n",
    "epochs_ctr = []\n",
    "avg_tr_loss_per_batch_list = []\n",
    "avg_tr_acc_per_batch_list = []\n",
    "avg_test_loss_per_batch_list = []\n",
    "avg_test_acc_per_batch_list = []\n",
    "\n",
    "\n",
    "\n",
    "for epoch in tqdm(range(0, epochs)):\n",
    "    \n",
    "    epoch_training_time_start = timer()\n",
    "\n",
    "    print(\"\\nEpoch \", epoch)\n",
    "    epochs_ctr.append(epoch)\n",
    "    cumulative_training_loss_per_epoch = 0\n",
    "    cumulative_tr_acc_per_epoch = 0\n",
    "\n",
    "    # training\n",
    "    classifier.train()\n",
    "    for batch_num, (X, y) in enumerate(train_dataloader):\n",
    "        \n",
    "        y_pred_batch = classifier(X)\n",
    "\n",
    "        batch_loss = loss_function(y_pred_batch, y)\n",
    "        tr_acc = accuracy_fn(y, y_pred_batch.argmax(dim = 1))\n",
    "        cumulative_tr_acc_per_epoch += tr_acc\n",
    "        \n",
    "        # accumulate training loss for an epoch for plotting purpose\n",
    "        # ensure to detach the variable value from the computation graph\n",
    "        cumulative_training_loss_per_epoch += batch_loss.item()\n",
    "\n",
    "        # wipe out garbage gradients accumulated\n",
    "        optimizer.zero_grad()\n",
    "\n",
    "        # backpropagation to calculate gradients\n",
    "        batch_loss.backward()\n",
    "\n",
    "        # optimizer the model parameters once per batch\n",
    "        optimizer.step()\n",
    "      \n",
    "    \n",
    "    # average training loss per batch\n",
    "    avg_tr_loss_per_batch = cumulative_training_loss_per_epoch/len(train_dataloader)\n",
    "    avg_tr_acc_per_batch = cumulative_tr_acc_per_epoch/len(train_dataloader)\n",
    "\n",
    "\n",
    "\n",
    "    # store average loss and accuracy for plot\n",
    "    avg_tr_loss_per_batch_list.append(avg_tr_loss_per_batch)\n",
    "    avg_tr_acc_per_batch_list.append(avg_tr_acc_per_batch)\n",
    "\n",
    "    \n",
    "\n",
    "    # testing\n",
    "    classifier.eval()\n",
    "    with torch.inference_mode():\n",
    "\n",
    "        cumulative_test_loss_per_epoch = 0\n",
    "        cumulative_test_acc_per_epoch = 0\n",
    "\n",
    "        for batch_num, (X,y) in enumerate(test_dataloader):\n",
    "\n",
    "            test_preds = classifier(X)\n",
    "            test_loss = loss_function(test_preds, y)\n",
    "            cumulative_test_loss_per_epoch += test_loss.to(\"cpu\").item()\n",
    "\n",
    "            test_acc = accuracy_fn(y, test_preds.argmax(dim = 1))\n",
    "            cumulative_test_acc_per_epoch += test_acc\n",
    "        \n",
    "        # calculate average test loss and test accuracy per batch\n",
    "        avg_test_loss_per_batch = cumulative_test_loss_per_epoch/len(test_dataloader)\n",
    "        avg_test_acc_per_batch = cumulative_test_acc_per_epoch/len(test_dataloader)\n",
    "        \n",
    "        # store average loss and accuracy for plot\n",
    "        avg_test_loss_per_batch_list.append(avg_test_loss_per_batch)\n",
    "        avg_test_acc_per_batch_list.append(avg_test_acc_per_batch)\n",
    "\n",
    "    # print each epoch\n",
    "    print(\"Avg tr loss/ batch:\", round(avg_tr_loss_per_batch, 3), \"Avg training acc/batch:\", round(avg_tr_acc_per_batch, 3),\\\n",
    "           \"Avg test loss/batch:\", round(avg_test_loss_per_batch,3),\"Average test acc/batch:\", round(avg_test_acc_per_batch,3))\n",
    "\n",
    "    # calculate epoch training time\n",
    "    epoch_training_end_time = timer()\n",
    "    total_training_time = print_training_time(start=epoch_training_time_start, end=epoch_training_end_time, device=str(next(classifier.parameters())))\n"
   ]
  },
  {
   "cell_type": "code",
   "execution_count": 16,
   "metadata": {},
   "outputs": [
    {
     "data": {
      "image/png": "[encoded data removed]",
      "text/plain": [
       "<Figure size 1200x600 with 2 Axes>"
      ]
     },
     "metadata": {},
     "output_type": "display_data"
    }
   ],
   "source": [
    "plt.figure(figsize=(12,6))\n",
    "\n",
    "# subplot 1\n",
    "plt.subplot(1,2,1) \n",
    "plt.title(\"Loss\")\n",
    "plt.plot(epochs_ctr, avg_tr_loss_per_batch_list, \"g\", label = \"Training Loss\")\n",
    "plt.plot(epochs_ctr, avg_test_loss_per_batch_list, \"r\", label = \"Test Loss\")\n",
    "plt.title(\"Training and Test Loss Curves\")\n",
    "plt.xlabel(\"Epochs\")\n",
    "plt.ylabel(\"Loss\")\n",
    "\n",
    "# subplot 2\n",
    "plt.subplot(1,2,2)\n",
    "plt.title(\"Test\")\n",
    "plt.title(\"Accuracy\")\n",
    "plt.plot(epochs_ctr, avg_tr_acc_per_batch_list, \"g\", label = \"Training Accuracy\")\n",
    "plt.plot(epochs_ctr, avg_test_acc_per_batch_list, \"r\", label = \"Test Accuracy\")\n",
    "plt.title(\"Training and Test Accuracy Curves\")\n",
    "plt.xlabel(\"Epochs\")\n",
    "plt.ylabel(\"Accuray\")\n",
    "\n",
    "plt.legend()\n",
    "plt.show()"
   ]
  },
  {
   "attachments": {},
   "cell_type": "markdown",
   "metadata": {},
   "source": [
    "As seen above, the performance flatten at around 85% accuracy on test data and the training time per epoch oscillates around 13 seconds. Can we do better in these two metrics?<br>\n",
    "- Notice that we have not used non-linear activations in the models used above. They are definitely helpful in increasing the accuracy since they allow for non-linear boundaries as seen in a previous notebook.\n",
    "- Notice that we have trained the model above using CPU. Next notebook will be on reducing training time by leveraging the available GPU."
   ]
  },
  {
   "cell_type": "markdown",
   "metadata": {},
   "source": []
  }
 ],
 "metadata": {
  "kernelspec": {
   "display_name": ".venv",
   "language": "python",
   "name": "python3"
  },
  "language_info": {
   "codemirror_mode": {
    "name": "ipython",
    "version": 3
   },
   "file_extension": ".py",
   "mimetype": "text/x-python",
   "name": "python",
   "nbconvert_exporter": "python",
   "pygments_lexer": "ipython3",
   "version": "3.10.11"
  },
  "orig_nbformat": 4
 },
 "nbformat": 4,
 "nbformat_minor": 2
}
