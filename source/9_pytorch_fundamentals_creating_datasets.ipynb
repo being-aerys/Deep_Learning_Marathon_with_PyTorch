{
 "cells": [
  {
   "cell_type": "code",
   "execution_count": 4,
   "metadata": {},
   "outputs": [
    {
     "data": {
      "text/plain": [
       "'2.0.0+cu118'"
      ]
     },
     "execution_count": 4,
     "metadata": {},
     "output_type": "execute_result"
    }
   ],
   "source": [
    "import torch\n",
    "torch.__version__"
   ]
  },
  {
   "cell_type": "code",
   "execution_count": 5,
   "metadata": {},
   "outputs": [],
   "source": [
    "import matplotlib.pyplot as plt"
   ]
  },
  {
   "attachments": {},
   "cell_type": "markdown",
   "metadata": {},
   "source": [
    "#### Create a custom dataset `X`."
   ]
  },
  {
   "attachments": {},
   "cell_type": "markdown",
   "metadata": {},
   "source": [
    "Create features."
   ]
  },
  {
   "cell_type": "code",
   "execution_count": 6,
   "metadata": {},
   "outputs": [
    {
     "data": {
      "text/plain": [
       "tensor([ 1.0000,  1.5000,  2.0000,  2.5000,  3.0000,  3.5000,  4.0000,  4.5000,\n",
       "         5.0000,  5.5000,  6.0000,  6.5000,  7.0000,  7.5000,  8.0000,  8.5000,\n",
       "         9.0000,  9.5000, 10.0000])"
      ]
     },
     "execution_count": 6,
     "metadata": {},
     "output_type": "execute_result"
    }
   ],
   "source": [
    "X = torch.arange(1,10.1,0.5)\n",
    "X\n"
   ]
  },
  {
   "cell_type": "code",
   "execution_count": 7,
   "metadata": {},
   "outputs": [
    {
     "data": {
      "text/plain": [
       "tensor([[ 1.0000],\n",
       "        [ 1.5000],\n",
       "        [ 2.0000],\n",
       "        [ 2.5000],\n",
       "        [ 3.0000],\n",
       "        [ 3.5000],\n",
       "        [ 4.0000],\n",
       "        [ 4.5000],\n",
       "        [ 5.0000],\n",
       "        [ 5.5000],\n",
       "        [ 6.0000],\n",
       "        [ 6.5000],\n",
       "        [ 7.0000],\n",
       "        [ 7.5000],\n",
       "        [ 8.0000],\n",
       "        [ 8.5000],\n",
       "        [ 9.0000],\n",
       "        [ 9.5000],\n",
       "        [10.0000]])"
      ]
     },
     "execution_count": 7,
     "metadata": {},
     "output_type": "execute_result"
    }
   ],
   "source": [
    "X = X.unsqueeze(dim = 1)\n",
    "X"
   ]
  },
  {
   "attachments": {},
   "cell_type": "markdown",
   "metadata": {},
   "source": [
    "Create ground truth values."
   ]
  },
  {
   "cell_type": "code",
   "execution_count": 8,
   "metadata": {},
   "outputs": [],
   "source": [
    "weight = 0.3\n",
    "bias = 0.9"
   ]
  },
  {
   "cell_type": "code",
   "execution_count": 9,
   "metadata": {},
   "outputs": [
    {
     "data": {
      "text/plain": [
       "tensor([[1.2000],\n",
       "        [1.3500],\n",
       "        [1.5000],\n",
       "        [1.6500],\n",
       "        [1.8000],\n",
       "        [1.9500],\n",
       "        [2.1000],\n",
       "        [2.2500],\n",
       "        [2.4000],\n",
       "        [2.5500],\n",
       "        [2.7000],\n",
       "        [2.8500],\n",
       "        [3.0000],\n",
       "        [3.1500],\n",
       "        [3.3000],\n",
       "        [3.4500],\n",
       "        [3.6000],\n",
       "        [3.7500],\n",
       "        [3.9000]])"
      ]
     },
     "execution_count": 9,
     "metadata": {},
     "output_type": "execute_result"
    }
   ],
   "source": [
    "y = weight * X + bias\n",
    "y"
   ]
  },
  {
   "attachments": {},
   "cell_type": "markdown",
   "metadata": {},
   "source": [
    "#### Create train-validation-test split.\n",
    "Assume that we use 60% for training, 20% for validation, and 20% for testing."
   ]
  },
  {
   "cell_type": "code",
   "execution_count": 15,
   "metadata": {},
   "outputs": [
    {
     "data": {
      "text/plain": [
       "11"
      ]
     },
     "execution_count": 15,
     "metadata": {},
     "output_type": "execute_result"
    }
   ],
   "source": [
    "train_split = int(0.6 * len(X))\n",
    "train_split"
   ]
  },
  {
   "cell_type": "code",
   "execution_count": 16,
   "metadata": {},
   "outputs": [],
   "source": [
    "train_X, train_y = X[:train_split], y[:train_split]\n",
    "test_X, test_y = X[train_split:], y[train_split:]"
   ]
  },
  {
   "cell_type": "code",
   "execution_count": 17,
   "metadata": {},
   "outputs": [
    {
     "data": {
      "text/plain": [
       "(tensor([[1.0000],\n",
       "         [1.5000],\n",
       "         [2.0000],\n",
       "         [2.5000],\n",
       "         [3.0000],\n",
       "         [3.5000],\n",
       "         [4.0000],\n",
       "         [4.5000],\n",
       "         [5.0000],\n",
       "         [5.5000],\n",
       "         [6.0000]]),\n",
       " tensor([[1.2000],\n",
       "         [1.3500],\n",
       "         [1.5000],\n",
       "         [1.6500],\n",
       "         [1.8000],\n",
       "         [1.9500],\n",
       "         [2.1000],\n",
       "         [2.2500],\n",
       "         [2.4000],\n",
       "         [2.5500],\n",
       "         [2.7000]]))"
      ]
     },
     "execution_count": 17,
     "metadata": {},
     "output_type": "execute_result"
    }
   ],
   "source": [
    "train_X, train_y"
   ]
  },
  {
   "cell_type": "code",
   "execution_count": 18,
   "metadata": {},
   "outputs": [
    {
     "data": {
      "text/plain": [
       "(tensor([[ 6.5000],\n",
       "         [ 7.0000],\n",
       "         [ 7.5000],\n",
       "         [ 8.0000],\n",
       "         [ 8.5000],\n",
       "         [ 9.0000],\n",
       "         [ 9.5000],\n",
       "         [10.0000]]),\n",
       " tensor([[2.8500],\n",
       "         [3.0000],\n",
       "         [3.1500],\n",
       "         [3.3000],\n",
       "         [3.4500],\n",
       "         [3.6000],\n",
       "         [3.7500],\n",
       "         [3.9000]]))"
      ]
     },
     "execution_count": 18,
     "metadata": {},
     "output_type": "execute_result"
    }
   ],
   "source": [
    "test_X, test_y"
   ]
  },
  {
   "attachments": {},
   "cell_type": "markdown",
   "metadata": {},
   "source": [
    "Let's plot the training data."
   ]
  },
  {
   "cell_type": "code",
   "execution_count": 29,
   "metadata": {},
   "outputs": [],
   "source": [
    "def plot_predictions(train_data, train_labels, test_data, test_labels, test_predictions = None):\n",
    "    \"\"\"\n",
    "    plots training and test data.\n",
    "    \"\"\"\n",
    "\n",
    "    plt.figure(figsize=(10,7))\n",
    "\n",
    "    #plot training data in green\n",
    "    plt.scatter(train_data, train_labels, c = \"g\", marker = \"8\", s=30, label = \"training data\")\n",
    "\n",
    "    #plot testing data in blue\n",
    "    plt.scatter(test_data, test_labels, c = \"b\", marker = \"8\", s=30, label = \"test data\")\n",
    "\n",
    "    # plot predictions if present\n",
    "    if test_predictions is not None:\n",
    "        plt.scatter(test_data, test_predictions, c = \"r\", marker = \"8\", s = 30, label = \"test predictions\")\n",
    "\n",
    "    # show legends\n",
    "    plt.legend(prop = {\"size\" : 8})\n",
    "\n"
   ]
  },
  {
   "cell_type": "code",
   "execution_count": 30,
   "metadata": {},
   "outputs": [
    {
     "data": {
      "image/png": "[encoded data removed]",
      "text/plain": [
       "<Figure size 1000x700 with 1 Axes>"
      ]
     },
     "metadata": {},
     "output_type": "display_data"
    }
   ],
   "source": [
    "plot_predictions(train_X, train_y, test_X, test_y)"
   ]
  },
  {
   "attachments": {},
   "cell_type": "markdown",
   "metadata": {},
   "source": []
  }
 ],
 "metadata": {
  "kernelspec": {
   "display_name": ".venv",
   "language": "python",
   "name": "python3"
  },
  "language_info": {
   "codemirror_mode": {
    "name": "ipython",
    "version": 3
   },
   "file_extension": ".py",
   "mimetype": "text/x-python",
   "name": "python",
   "nbconvert_exporter": "python",
   "pygments_lexer": "ipython3",
   "version": "3.10.11"
  },
  "orig_nbformat": 4
 },
 "nbformat": 4,
 "nbformat_minor": 2
}
